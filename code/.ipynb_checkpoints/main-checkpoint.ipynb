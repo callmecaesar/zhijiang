{
 "cells": [
  {
   "cell_type": "code",
   "execution_count": 1,
   "metadata": {},
   "outputs": [
    {
     "name": "stderr",
     "output_type": "stream",
     "text": [
      "/Users/zhaoliang/anaconda3/lib/python3.6/site-packages/h5py/__init__.py:36: FutureWarning: Conversion of the second argument of issubdtype from `float` to `np.floating` is deprecated. In future, it will be treated as `np.float64 == np.dtype(float).type`.\n",
      "  from ._conv import register_converters as _register_converters\n",
      "Using TensorFlow backend.\n"
     ]
    }
   ],
   "source": [
    "from TrainDataPreprocess import ProcessData\n",
    "from ModelSet import NERModel, CategoriesClassifier, PolaritiesClassifier\n",
    "from GetData import GetData\n",
    "\n",
    "train_reviews_path = '../data/Train_reviews.csv'\n",
    "train_labels_path = '../data/Train_labels.csv'"
   ]
  },
  {
   "cell_type": "code",
   "execution_count": 2,
   "metadata": {},
   "outputs": [
    {
     "name": "stderr",
     "output_type": "stream",
     "text": [
      "Building prefix dict from the default dictionary ...\n",
      "WARNING: Logging before flag parsing goes to stderr.\n",
      "I0823 15:09:22.664521 4562601408 __init__.py:111] Building prefix dict from the default dictionary ...\n",
      "Loading model from cache /var/folders/x8/4yf3l2h548b6w9d_ym2c1lvr0000gp/T/jieba.cache\n",
      "I0823 15:09:22.666319 4562601408 __init__.py:131] Loading model from cache /var/folders/x8/4yf3l2h548b6w9d_ym2c1lvr0000gp/T/jieba.cache\n"
     ]
    },
    {
     "name": "stdout",
     "output_type": "stream",
     "text": [
      "数据预处理...\n",
      "数据表整合完成...\n"
     ]
    },
    {
     "name": "stderr",
     "output_type": "stream",
     "text": [
      "Loading model cost 0.640 seconds.\n",
      "I0823 15:09:23.305712 4562601408 __init__.py:163] Loading model cost 0.640 seconds.\n",
      "Prefix dict has been built succesfully.\n",
      "I0823 15:09:23.306924 4562601408 __init__.py:164] Prefix dict has been built succesfully.\n"
     ]
    },
    {
     "name": "stdout",
     "output_type": "stream",
     "text": [
      "字典生成与存储...\n",
      "字典生成与存储完毕\n",
      "数据生成与存储...\n",
      "数据生成与存储完毕！\n"
     ]
    }
   ],
   "source": [
    "#预处理数据\n",
    "process_data = ProcessData(train_reviews_path, train_labels_path)\n",
    "process_data.sava_data()\n",
    "\n",
    "#获取训练数据和测试数据\n",
    "get_data_obj = GetData('char')\n",
    "chunk2id, id2chunk, vocab2id, id2vocab, ner_data, ner_label = get_data_obj.get_ner_train_data()\n",
    "content_data, aspect_data, opinion_data, category_label, id2categories = get_data_obj.get_categories_train_data()\n",
    "content_data, aspect_data, opinion_data, polarity_label, id2polarities = get_data_obj.get_polarities_train_data()\n",
    "ids, data = get_data_obj.get_test_ner_data('../data/Train_reviews.csv', vocab2id)"
   ]
  },
  {
   "cell_type": "code",
   "execution_count": 3,
   "metadata": {},
   "outputs": [
    {
     "name": "stderr",
     "output_type": "stream",
     "text": [
      "W0823 15:09:32.685378 4562601408 deprecation_wrapper.py:119] From /Users/zhaoliang/anaconda3/lib/python3.6/site-packages/keras/backend/tensorflow_backend.py:517: The name tf.placeholder is deprecated. Please use tf.compat.v1.placeholder instead.\n",
      "\n",
      "W0823 15:09:32.699320 4562601408 deprecation_wrapper.py:119] From /Users/zhaoliang/anaconda3/lib/python3.6/site-packages/keras/backend/tensorflow_backend.py:4138: The name tf.random_uniform is deprecated. Please use tf.random.uniform instead.\n",
      "\n",
      "W0823 15:09:32.710958 4562601408 deprecation_wrapper.py:119] From /Users/zhaoliang/anaconda3/lib/python3.6/site-packages/keras/backend/tensorflow_backend.py:74: The name tf.get_default_graph is deprecated. Please use tf.compat.v1.get_default_graph instead.\n",
      "\n",
      "W0823 15:09:33.282939 4562601408 deprecation_wrapper.py:119] From /Users/zhaoliang/anaconda3/lib/python3.6/site-packages/keras/backend/tensorflow_backend.py:133: The name tf.placeholder_with_default is deprecated. Please use tf.compat.v1.placeholder_with_default instead.\n",
      "\n",
      "W0823 15:09:33.289994 4562601408 deprecation.py:506] From /Users/zhaoliang/anaconda3/lib/python3.6/site-packages/keras/backend/tensorflow_backend.py:3445: calling dropout (from tensorflow.python.ops.nn_ops) with keep_prob is deprecated and will be removed in a future version.\n",
      "Instructions for updating:\n",
      "Please use `rate` instead of `keep_prob`. Rate should be set to `rate = 1 - keep_prob`.\n",
      "/Users/zhaoliang/gitProject/zhijiang/code/ModelSet.py:44: UserWarning: Update your `Model` call to the Keras 2 API: `Model(inputs=[<tf.Tenso..., outputs=[<tf.Tenso...)`\n",
      "  model = Model(input=[input_layer], output=[crf_output])\n",
      "/Users/zhaoliang/anaconda3/lib/python3.6/site-packages/keras_contrib/layers/crf.py:346: UserWarning: CRF.loss_function is deprecated and it might be removed in the future. Please use losses.crf_loss instead.\n",
      "  warnings.warn('CRF.loss_function is deprecated '\n",
      "/Users/zhaoliang/anaconda3/lib/python3.6/site-packages/keras_contrib/layers/crf.py:353: UserWarning: CRF.accuracy is deprecated and it might be removed in the future. Please use metrics.crf_accuracy\n",
      "  warnings.warn('CRF.accuracy is deprecated and it '\n",
      "W0823 15:09:33.497655 4562601408 deprecation_wrapper.py:119] From /Users/zhaoliang/anaconda3/lib/python3.6/site-packages/keras/optimizers.py:790: The name tf.train.Optimizer is deprecated. Please use tf.compat.v1.train.Optimizer instead.\n",
      "\n",
      "W0823 15:09:33.581273 4562601408 deprecation.py:323] From /Users/zhaoliang/anaconda3/lib/python3.6/site-packages/tensorflow/python/ops/math_ops.py:2403: add_dispatch_support.<locals>.wrapper (from tensorflow.python.ops.array_ops) is deprecated and will be removed in a future version.\n",
      "Instructions for updating:\n",
      "Use tf.where in 2.0, which has the same broadcast rule as np.where\n"
     ]
    },
    {
     "name": "stdout",
     "output_type": "stream",
     "text": [
      "_________________________________________________________________\n",
      "Layer (type)                 Output Shape              Param #   \n",
      "=================================================================\n",
      "input_layer (InputLayer)     (None, 69)                0         \n",
      "_________________________________________________________________\n",
      "embedding_layer (Embedding)  (None, 69, 128)           165120    \n",
      "_________________________________________________________________\n",
      "bidirectional_1 (Bidirection (None, 69, 64)            41216     \n",
      "_________________________________________________________________\n",
      "dropout_1 (Dropout)          (None, 69, 64)            0         \n",
      "_________________________________________________________________\n",
      "crf_1 (CRF)                  (None, 69, 5)             360       \n",
      "=================================================================\n",
      "Total params: 206,696\n",
      "Trainable params: 206,696\n",
      "Non-trainable params: 0\n",
      "_________________________________________________________________\n"
     ]
    }
   ],
   "source": [
    "ner = NERModel(maxlen = 69, word_dict_size = len(vocab2id), word_vec_size = 128, class_label_count = len(chunk2id))\n",
    "# ner.train(ner_data, ner_label )\n",
    "# ner_result = ner.predict(ner_data, id2chunk)"
   ]
  },
  {
   "cell_type": "code",
   "execution_count": 4,
   "metadata": {},
   "outputs": [
    {
     "name": "stderr",
     "output_type": "stream",
     "text": [
      "W0823 15:09:33.866426 4562601408 deprecation_wrapper.py:119] From /Users/zhaoliang/anaconda3/lib/python3.6/site-packages/keras/backend/tensorflow_backend.py:174: The name tf.get_default_session is deprecated. Please use tf.compat.v1.get_default_session instead.\n",
      "\n"
     ]
    }
   ],
   "source": [
    "ner_result = ner.predict(data, id2chunk)"
   ]
  },
  {
   "cell_type": "code",
   "execution_count": 5,
   "metadata": {},
   "outputs": [],
   "source": [
    "from GenSubmit import GenSubmit\n",
    "gs = GenSubmit(list(process_data.train_reviews['Reviews']), id2vocab)"
   ]
  },
  {
   "cell_type": "code",
   "execution_count": 6,
   "metadata": {},
   "outputs": [],
   "source": [
    "ner_table = gs.get_ner_result(ids, list(process_data.train_reviews['Reviews']), data, ner_result)\n",
    "ret_content_arr, ret_aspect_arr, ret_opinion_arr = get_data_obj.get_test_category_polarity_data(ner_table, vocab2id)"
   ]
  },
  {
   "cell_type": "code",
   "execution_count": 7,
   "metadata": {},
   "outputs": [
    {
     "data": {
      "text/html": [
       "<div>\n",
       "<style scoped>\n",
       "    .dataframe tbody tr th:only-of-type {\n",
       "        vertical-align: middle;\n",
       "    }\n",
       "\n",
       "    .dataframe tbody tr th {\n",
       "        vertical-align: top;\n",
       "    }\n",
       "\n",
       "    .dataframe thead th {\n",
       "        text-align: right;\n",
       "    }\n",
       "</style>\n",
       "<table border=\"1\" class=\"dataframe\">\n",
       "  <thead>\n",
       "    <tr style=\"text-align: right;\">\n",
       "      <th></th>\n",
       "      <th>id</th>\n",
       "      <th>Reviews</th>\n",
       "      <th>AspectTerms</th>\n",
       "      <th>A_start</th>\n",
       "      <th>A_end</th>\n",
       "      <th>OpinionTerms</th>\n",
       "      <th>O_start</th>\n",
       "      <th>O_end</th>\n",
       "    </tr>\n",
       "  </thead>\n",
       "  <tbody>\n",
       "    <tr>\n",
       "      <th>0</th>\n",
       "      <td>1</td>\n",
       "      <td>很好，超值，很好用</td>\n",
       "      <td>_</td>\n",
       "      <td></td>\n",
       "      <td></td>\n",
       "      <td>很好</td>\n",
       "      <td>0</td>\n",
       "      <td>2</td>\n",
       "    </tr>\n",
       "    <tr>\n",
       "      <th>1</th>\n",
       "      <td>1</td>\n",
       "      <td>很好，超值，很好用</td>\n",
       "      <td>_</td>\n",
       "      <td></td>\n",
       "      <td></td>\n",
       "      <td>超值</td>\n",
       "      <td>3</td>\n",
       "      <td>5</td>\n",
       "    </tr>\n",
       "    <tr>\n",
       "      <th>2</th>\n",
       "      <td>1</td>\n",
       "      <td>很好，超值，很好用</td>\n",
       "      <td>_</td>\n",
       "      <td></td>\n",
       "      <td></td>\n",
       "      <td>很好用</td>\n",
       "      <td>6</td>\n",
       "      <td>9</td>\n",
       "    </tr>\n",
       "    <tr>\n",
       "      <th>3</th>\n",
       "      <td>2</td>\n",
       "      <td>很好，遮暇功能差一些，总体还不错</td>\n",
       "      <td>遮暇功能</td>\n",
       "      <td>3</td>\n",
       "      <td>7</td>\n",
       "      <td>差一些</td>\n",
       "      <td>7</td>\n",
       "      <td>10</td>\n",
       "    </tr>\n",
       "    <tr>\n",
       "      <th>4</th>\n",
       "      <td>2</td>\n",
       "      <td>很好，遮暇功能差一些，总体还不错</td>\n",
       "      <td>_</td>\n",
       "      <td></td>\n",
       "      <td></td>\n",
       "      <td>很好</td>\n",
       "      <td>0</td>\n",
       "      <td>2</td>\n",
       "    </tr>\n",
       "  </tbody>\n",
       "</table>\n",
       "</div>"
      ],
      "text/plain": [
       "   id           Reviews AspectTerms A_start A_end OpinionTerms O_start O_end\n",
       "0   1         很好，超值，很好用           _                         很好       0     2\n",
       "1   1         很好，超值，很好用           _                         超值       3     5\n",
       "2   1         很好，超值，很好用           _                        很好用       6     9\n",
       "3   2  很好，遮暇功能差一些，总体还不错        遮暇功能       3     7          差一些       7    10\n",
       "4   2  很好，遮暇功能差一些，总体还不错           _                         很好       0     2"
      ]
     },
     "execution_count": 7,
     "metadata": {},
     "output_type": "execute_result"
    }
   ],
   "source": [
    "ner_table.head()"
   ]
  },
  {
   "cell_type": "code",
   "execution_count": 11,
   "metadata": {
    "scrolled": true
   },
   "outputs": [
    {
     "name": "stdout",
     "output_type": "stream",
     "text": [
      "__________________________________________________________________________________________________\n",
      "Layer (type)                    Output Shape         Param #     Connected to                     \n",
      "==================================================================================================\n",
      "content_input_layer (InputLayer (None, 69)           0                                            \n",
      "__________________________________________________________________________________________________\n",
      "aspect_input_layer (InputLayer) (None, 8)            0                                            \n",
      "__________________________________________________________________________________________________\n",
      "option_input_layer (InputLayer) (None, 12)           0                                            \n",
      "__________________________________________________________________________________________________\n",
      "embedding_layer (Embedding)     multiple             165120      content_input_layer[0][0]        \n",
      "                                                                 aspect_input_layer[0][0]         \n",
      "                                                                 option_input_layer[0][0]         \n",
      "__________________________________________________________________________________________________\n",
      "zero_padding1d_2 (ZeroPadding1D multiple             0           embedding_layer[0][0]            \n",
      "                                                                 embedding_layer[1][0]            \n",
      "                                                                 embedding_layer[2][0]            \n",
      "__________________________________________________________________________________________________\n",
      "conv1d_2 (Conv1D)               multiple             32050       zero_padding1d_2[0][0]           \n",
      "                                                                 zero_padding1d_2[1][0]           \n",
      "                                                                 zero_padding1d_2[2][0]           \n",
      "__________________________________________________________________________________________________\n",
      "pooling (AveragePooling1D)      multiple             0           conv1d_2[0][0]                   \n",
      "                                                                 conv1d_2[1][0]                   \n",
      "                                                                 conv1d_2[2][0]                   \n",
      "__________________________________________________________________________________________________\n",
      "concatenate_2 (Concatenate)     (None, 44, 50)       0           pooling[0][0]                    \n",
      "                                                                 pooling[1][0]                    \n",
      "                                                                 pooling[2][0]                    \n",
      "__________________________________________________________________________________________________\n",
      "flatten_2 (Flatten)             (None, 2200)         0           concatenate_2[0][0]              \n",
      "__________________________________________________________________________________________________\n",
      "dense_2 (Dense)                 (None, 13)           28613       flatten_2[0][0]                  \n",
      "==================================================================================================\n",
      "Total params: 225,783\n",
      "Trainable params: 225,783\n",
      "Non-trainable params: 0\n",
      "__________________________________________________________________________________________________\n"
     ]
    },
    {
     "name": "stderr",
     "output_type": "stream",
     "text": [
      "/Users/zhaoliang/gitProject/zhijiang/code/ModelSet.py:175: UserWarning: Update your `Conv1D` call to the Keras 2 API: `Conv1D(filters=50, kernel_size=5, padding=\"valid\")`\n",
      "  conv_layer = Conv1D(nb_filter=50, filter_length=(2 * half_window_size + 1), border_mode='valid')\n",
      "/Users/zhaoliang/gitProject/zhijiang/code/ModelSet.py:188: UserWarning: Update your `Model` call to the Keras 2 API: `Model(inputs=[<tf.Tenso..., outputs=Tensor(\"de...)`\n",
      "  model = Model(input=[content_input_layer, aspect_input_layer, option_input_layer], output=output)\n"
     ]
    }
   ],
   "source": [
    "cc = CategoriesClassifier(content_max_len = 69, aspect_max_len=8, option_max_len=12, categories_num=len(id2categories), word_dict_size=len(vocab2id), word_vec_size=128)\n",
    "# cc.train(content_data, aspect_data, opinion_data, category_label)\n"
   ]
  },
  {
   "cell_type": "code",
   "execution_count": 8,
   "metadata": {
    "scrolled": true
   },
   "outputs": [
    {
     "name": "stderr",
     "output_type": "stream",
     "text": [
      "/Users/zhaoliang/gitProject/zhijiang/code/ModelSet.py:99: UserWarning: Update your `Conv1D` call to the Keras 2 API: `Conv1D(filters=50, kernel_size=5, padding=\"valid\")`\n",
      "  conv_layer = Conv1D(nb_filter=50, filter_length=(2 * half_window_size + 1), border_mode='valid')\n",
      "W0823 15:09:48.927481 4562601408 deprecation_wrapper.py:119] From /Users/zhaoliang/anaconda3/lib/python3.6/site-packages/keras/backend/tensorflow_backend.py:3980: The name tf.nn.avg_pool is deprecated. Please use tf.nn.avg_pool2d instead.\n",
      "\n"
     ]
    },
    {
     "name": "stdout",
     "output_type": "stream",
     "text": [
      "__________________________________________________________________________________________________\n",
      "Layer (type)                    Output Shape         Param #     Connected to                     \n",
      "==================================================================================================\n",
      "content_input_layer (InputLayer (None, 69)           0                                            \n",
      "__________________________________________________________________________________________________\n",
      "aspect_input_layer (InputLayer) (None, 8)            0                                            \n",
      "__________________________________________________________________________________________________\n",
      "option_input_layer (InputLayer) (None, 12)           0                                            \n",
      "__________________________________________________________________________________________________\n",
      "embedding_layer (Embedding)     multiple             165120      content_input_layer[0][0]        \n",
      "                                                                 aspect_input_layer[0][0]         \n",
      "                                                                 option_input_layer[0][0]         \n",
      "__________________________________________________________________________________________________\n",
      "zero_padding1d_1 (ZeroPadding1D multiple             0           embedding_layer[0][0]            \n",
      "                                                                 embedding_layer[1][0]            \n",
      "                                                                 embedding_layer[2][0]            \n",
      "__________________________________________________________________________________________________\n",
      "conv1d_1 (Conv1D)               multiple             32050       zero_padding1d_1[0][0]           \n",
      "                                                                 zero_padding1d_1[1][0]           \n",
      "                                                                 zero_padding1d_1[2][0]           \n",
      "__________________________________________________________________________________________________\n",
      "pooling (AveragePooling1D)      multiple             0           conv1d_1[0][0]                   \n",
      "                                                                 conv1d_1[1][0]                   \n",
      "                                                                 conv1d_1[2][0]                   \n",
      "__________________________________________________________________________________________________\n",
      "concatenate_1 (Concatenate)     (None, 44, 50)       0           pooling[0][0]                    \n",
      "                                                                 pooling[1][0]                    \n",
      "                                                                 pooling[2][0]                    \n",
      "__________________________________________________________________________________________________\n",
      "flatten_1 (Flatten)             (None, 2200)         0           concatenate_1[0][0]              \n",
      "__________________________________________________________________________________________________\n",
      "dense_1 (Dense)                 (None, 1)            2201        flatten_1[0][0]                  \n",
      "==================================================================================================\n",
      "Total params: 199,371\n",
      "Trainable params: 199,371\n",
      "Non-trainable params: 0\n",
      "__________________________________________________________________________________________________\n"
     ]
    },
    {
     "name": "stderr",
     "output_type": "stream",
     "text": [
      "/Users/zhaoliang/gitProject/zhijiang/code/ModelSet.py:112: UserWarning: Update your `Model` call to the Keras 2 API: `Model(inputs=[<tf.Tenso..., outputs=Tensor(\"de...)`\n",
      "  model = Model(input=[content_input_layer, aspect_input_layer, option_input_layer], output=output)\n"
     ]
    }
   ],
   "source": [
    "pc = PolaritiesClassifier(content_max_len = 69, aspect_max_len=8, option_max_len=12, word_dict_size=len(vocab2id), word_vec_size=128)\n",
    "# pc.train(content_data, aspect_data, opinion_data, polarity_label)\n"
   ]
  },
  {
   "cell_type": "code",
   "execution_count": 9,
   "metadata": {},
   "outputs": [
    {
     "data": {
      "text/plain": [
       "[2, 3]"
      ]
     },
     "execution_count": 9,
     "metadata": {},
     "output_type": "execute_result"
    }
   ],
   "source": [
    "ret_opinion_arr[0]"
   ]
  },
  {
   "cell_type": "code",
   "execution_count": 12,
   "metadata": {},
   "outputs": [],
   "source": [
    "cc_result = cc.predict(ret_content_arr, ret_aspect_arr, ret_opinion_arr, id2categories)\n",
    "\n",
    "pc_result = pc.predict(ret_content_arr, ret_aspect_arr, ret_opinion_arr)\n",
    "\n"
   ]
  },
  {
   "cell_type": "code",
   "execution_count": 13,
   "metadata": {},
   "outputs": [],
   "source": [
    "ner_table['Categories'] = cc_result\n",
    "ner_table['Polarities'] = pc_result"
   ]
  },
  {
   "cell_type": "code",
   "execution_count": 14,
   "metadata": {},
   "outputs": [
    {
     "data": {
      "text/html": [
       "<div>\n",
       "<style scoped>\n",
       "    .dataframe tbody tr th:only-of-type {\n",
       "        vertical-align: middle;\n",
       "    }\n",
       "\n",
       "    .dataframe tbody tr th {\n",
       "        vertical-align: top;\n",
       "    }\n",
       "\n",
       "    .dataframe thead th {\n",
       "        text-align: right;\n",
       "    }\n",
       "</style>\n",
       "<table border=\"1\" class=\"dataframe\">\n",
       "  <thead>\n",
       "    <tr style=\"text-align: right;\">\n",
       "      <th></th>\n",
       "      <th>id</th>\n",
       "      <th>Reviews</th>\n",
       "      <th>AspectTerms</th>\n",
       "      <th>A_start</th>\n",
       "      <th>A_end</th>\n",
       "      <th>OpinionTerms</th>\n",
       "      <th>O_start</th>\n",
       "      <th>O_end</th>\n",
       "      <th>Categories</th>\n",
       "      <th>Polarities</th>\n",
       "    </tr>\n",
       "  </thead>\n",
       "  <tbody>\n",
       "    <tr>\n",
       "      <th>0</th>\n",
       "      <td>1</td>\n",
       "      <td>很好，超值，很好用</td>\n",
       "      <td>_</td>\n",
       "      <td></td>\n",
       "      <td></td>\n",
       "      <td>很好</td>\n",
       "      <td>0</td>\n",
       "      <td>2</td>\n",
       "      <td>其他</td>\n",
       "      <td>正面</td>\n",
       "    </tr>\n",
       "    <tr>\n",
       "      <th>1</th>\n",
       "      <td>1</td>\n",
       "      <td>很好，超值，很好用</td>\n",
       "      <td>_</td>\n",
       "      <td></td>\n",
       "      <td></td>\n",
       "      <td>超值</td>\n",
       "      <td>3</td>\n",
       "      <td>5</td>\n",
       "      <td>包装</td>\n",
       "      <td>正面</td>\n",
       "    </tr>\n",
       "    <tr>\n",
       "      <th>2</th>\n",
       "      <td>1</td>\n",
       "      <td>很好，超值，很好用</td>\n",
       "      <td>_</td>\n",
       "      <td></td>\n",
       "      <td></td>\n",
       "      <td>很好用</td>\n",
       "      <td>6</td>\n",
       "      <td>9</td>\n",
       "      <td>其他</td>\n",
       "      <td>正面</td>\n",
       "    </tr>\n",
       "    <tr>\n",
       "      <th>3</th>\n",
       "      <td>2</td>\n",
       "      <td>很好，遮暇功能差一些，总体还不错</td>\n",
       "      <td>遮暇功能</td>\n",
       "      <td>3</td>\n",
       "      <td>7</td>\n",
       "      <td>差一些</td>\n",
       "      <td>7</td>\n",
       "      <td>10</td>\n",
       "      <td>使用体验</td>\n",
       "      <td>负面</td>\n",
       "    </tr>\n",
       "    <tr>\n",
       "      <th>4</th>\n",
       "      <td>2</td>\n",
       "      <td>很好，遮暇功能差一些，总体还不错</td>\n",
       "      <td>_</td>\n",
       "      <td></td>\n",
       "      <td></td>\n",
       "      <td>很好</td>\n",
       "      <td>0</td>\n",
       "      <td>2</td>\n",
       "      <td>其他</td>\n",
       "      <td>正面</td>\n",
       "    </tr>\n",
       "  </tbody>\n",
       "</table>\n",
       "</div>"
      ],
      "text/plain": [
       "   id           Reviews AspectTerms A_start A_end OpinionTerms O_start O_end  \\\n",
       "0   1         很好，超值，很好用           _                         很好       0     2   \n",
       "1   1         很好，超值，很好用           _                         超值       3     5   \n",
       "2   1         很好，超值，很好用           _                        很好用       6     9   \n",
       "3   2  很好，遮暇功能差一些，总体还不错        遮暇功能       3     7          差一些       7    10   \n",
       "4   2  很好，遮暇功能差一些，总体还不错           _                         很好       0     2   \n",
       "\n",
       "  Categories Polarities  \n",
       "0         其他         正面  \n",
       "1         包装         正面  \n",
       "2         其他         正面  \n",
       "3       使用体验         负面  \n",
       "4         其他         正面  "
      ]
     },
     "execution_count": 14,
     "metadata": {},
     "output_type": "execute_result"
    }
   ],
   "source": [
    "ner_table.head()"
   ]
  },
  {
   "cell_type": "code",
   "execution_count": 15,
   "metadata": {},
   "outputs": [
    {
     "data": {
      "text/plain": [
       "{'0': '物流',\n",
       " '1': '使用体验',\n",
       " '2': '其他',\n",
       " '3': '价格',\n",
       " '4': '包装',\n",
       " '5': '功效',\n",
       " '6': '尺寸',\n",
       " '7': '真伪',\n",
       " '8': '整体',\n",
       " '9': '成分',\n",
       " '10': '新鲜度',\n",
       " '11': '气味',\n",
       " '12': '服务'}"
      ]
     },
     "execution_count": 15,
     "metadata": {},
     "output_type": "execute_result"
    }
   ],
   "source": [
    "id2categories"
   ]
  },
  {
   "cell_type": "code",
   "execution_count": 16,
   "metadata": {},
   "outputs": [
    {
     "data": {
      "text/html": [
       "<div>\n",
       "<style scoped>\n",
       "    .dataframe tbody tr th:only-of-type {\n",
       "        vertical-align: middle;\n",
       "    }\n",
       "\n",
       "    .dataframe tbody tr th {\n",
       "        vertical-align: top;\n",
       "    }\n",
       "\n",
       "    .dataframe thead th {\n",
       "        text-align: right;\n",
       "    }\n",
       "</style>\n",
       "<table border=\"1\" class=\"dataframe\">\n",
       "  <thead>\n",
       "    <tr style=\"text-align: right;\">\n",
       "      <th></th>\n",
       "      <th>id</th>\n",
       "      <th>Reviews</th>\n",
       "      <th>AspectTerms</th>\n",
       "      <th>A_start</th>\n",
       "      <th>A_end</th>\n",
       "      <th>OpinionTerms</th>\n",
       "      <th>O_start</th>\n",
       "      <th>O_end</th>\n",
       "      <th>Categories</th>\n",
       "      <th>Polarities</th>\n",
       "    </tr>\n",
       "  </thead>\n",
       "  <tbody>\n",
       "    <tr>\n",
       "      <th>0</th>\n",
       "      <td>1</td>\n",
       "      <td>很好，超值，很好用</td>\n",
       "      <td>_</td>\n",
       "      <td></td>\n",
       "      <td></td>\n",
       "      <td>很好</td>\n",
       "      <td>0</td>\n",
       "      <td>2</td>\n",
       "      <td>使用体验</td>\n",
       "      <td>正面</td>\n",
       "    </tr>\n",
       "    <tr>\n",
       "      <th>1</th>\n",
       "      <td>1</td>\n",
       "      <td>很好，超值，很好用</td>\n",
       "      <td>_</td>\n",
       "      <td></td>\n",
       "      <td></td>\n",
       "      <td>超值</td>\n",
       "      <td>3</td>\n",
       "      <td>5</td>\n",
       "      <td>价格</td>\n",
       "      <td>正面</td>\n",
       "    </tr>\n",
       "    <tr>\n",
       "      <th>2</th>\n",
       "      <td>1</td>\n",
       "      <td>很好，超值，很好用</td>\n",
       "      <td>_</td>\n",
       "      <td></td>\n",
       "      <td></td>\n",
       "      <td>很好用</td>\n",
       "      <td>6</td>\n",
       "      <td>9</td>\n",
       "      <td>使用体验</td>\n",
       "      <td>正面</td>\n",
       "    </tr>\n",
       "    <tr>\n",
       "      <th>3</th>\n",
       "      <td>2</td>\n",
       "      <td>很好，遮暇功能差一些，总体还不错</td>\n",
       "      <td>遮暇功能</td>\n",
       "      <td>3</td>\n",
       "      <td>7</td>\n",
       "      <td>差一些</td>\n",
       "      <td>7</td>\n",
       "      <td>10</td>\n",
       "      <td>新鲜度</td>\n",
       "      <td>负面</td>\n",
       "    </tr>\n",
       "    <tr>\n",
       "      <th>4</th>\n",
       "      <td>2</td>\n",
       "      <td>很好，遮暇功能差一些，总体还不错</td>\n",
       "      <td>_</td>\n",
       "      <td></td>\n",
       "      <td></td>\n",
       "      <td>很好</td>\n",
       "      <td>0</td>\n",
       "      <td>2</td>\n",
       "      <td>使用体验</td>\n",
       "      <td>正面</td>\n",
       "    </tr>\n",
       "  </tbody>\n",
       "</table>\n",
       "</div>"
      ],
      "text/plain": [
       "   id           Reviews AspectTerms A_start A_end OpinionTerms O_start O_end  \\\n",
       "0   1         很好，超值，很好用           _                         很好       0     2   \n",
       "1   1         很好，超值，很好用           _                         超值       3     5   \n",
       "2   1         很好，超值，很好用           _                        很好用       6     9   \n",
       "3   2  很好，遮暇功能差一些，总体还不错        遮暇功能       3     7          差一些       7    10   \n",
       "4   2  很好，遮暇功能差一些，总体还不错           _                         很好       0     2   \n",
       "\n",
       "  Categories Polarities  \n",
       "0       使用体验         正面  \n",
       "1         价格         正面  \n",
       "2       使用体验         正面  \n",
       "3        新鲜度         负面  \n",
       "4       使用体验         正面  "
      ]
     },
     "execution_count": 16,
     "metadata": {},
     "output_type": "execute_result"
    }
   ],
   "source": [
    "ner_table.head()"
   ]
  }
 ],
 "metadata": {
  "kernelspec": {
   "display_name": "Python 3",
   "language": "python",
   "name": "python3"
  },
  "language_info": {
   "codemirror_mode": {
    "name": "ipython",
    "version": 3
   },
   "file_extension": ".py",
   "mimetype": "text/x-python",
   "name": "python",
   "nbconvert_exporter": "python",
   "pygments_lexer": "ipython3",
   "version": "3.6.5"
  }
 },
 "nbformat": 4,
 "nbformat_minor": 2
}
