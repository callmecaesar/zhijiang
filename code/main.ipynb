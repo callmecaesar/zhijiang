{
 "cells": [
  {
   "cell_type": "code",
   "execution_count": 1,
   "metadata": {},
   "outputs": [
    {
     "name": "stderr",
     "output_type": "stream",
     "text": [
      "/Users/zhaoliang/anaconda3/lib/python3.6/site-packages/h5py/__init__.py:36: FutureWarning: Conversion of the second argument of issubdtype from `float` to `np.floating` is deprecated. In future, it will be treated as `np.float64 == np.dtype(float).type`.\n",
      "  from ._conv import register_converters as _register_converters\n",
      "Using TensorFlow backend.\n"
     ]
    }
   ],
   "source": [
    "from TrainDataPreprocess import ProcessData\n",
    "from ModelSet import NERModel, CategoriesClassifier, PolaritiesClassifier\n",
    "from GetData import GetData\n",
    "\n",
    "train_reviews_path = '../data/Train_reviews.csv'\n",
    "train_labels_path = '../data/Train_labels.csv'\n",
    "test_reviews_path = '../data/Test_reviews.csv'"
   ]
  },
  {
   "cell_type": "code",
   "execution_count": 2,
   "metadata": {},
   "outputs": [
    {
     "name": "stderr",
     "output_type": "stream",
     "text": [
      "Building prefix dict from the default dictionary ...\n",
      "WARNING: Logging before flag parsing goes to stderr.\n",
      "I0826 10:25:45.078475 4458923456 __init__.py:111] Building prefix dict from the default dictionary ...\n",
      "Loading model from cache /var/folders/x8/4yf3l2h548b6w9d_ym2c1lvr0000gp/T/jieba.cache\n",
      "I0826 10:25:45.079925 4458923456 __init__.py:131] Loading model from cache /var/folders/x8/4yf3l2h548b6w9d_ym2c1lvr0000gp/T/jieba.cache\n"
     ]
    },
    {
     "name": "stdout",
     "output_type": "stream",
     "text": [
      "数据预处理...\n",
      "数据表整合完成...\n"
     ]
    },
    {
     "name": "stderr",
     "output_type": "stream",
     "text": [
      "Loading model cost 0.650 seconds.\n",
      "I0826 10:25:45.729952 4458923456 __init__.py:163] Loading model cost 0.650 seconds.\n",
      "Prefix dict has been built succesfully.\n",
      "I0826 10:25:45.731043 4458923456 __init__.py:164] Prefix dict has been built succesfully.\n"
     ]
    },
    {
     "name": "stdout",
     "output_type": "stream",
     "text": [
      "字典生成与存储...\n",
      "字典生成与存储完毕\n",
      "数据生成与存储...\n",
      "数据生成与存储完毕！\n"
     ]
    }
   ],
   "source": [
    "#预处理数据\n",
    "process_data = ProcessData(train_reviews_path, train_labels_path)\n",
    "process_data.sava_data()\n",
    "\n",
    "#获取训练数据和测试数据\n",
    "get_data_obj = GetData('word')\n",
    "chunk2id, id2chunk, vocab2id, id2vocab, ner_data, ner_label = get_data_obj.get_ner_train_data()\n",
    "content_data, aspect_data, opinion_data, category_label, id2categories = get_data_obj.get_categories_train_data()\n",
    "content_data, aspect_data, opinion_data, polarity_label, id2polarities = get_data_obj.get_polarities_train_data()\n",
    "ids, data, sents = get_data_obj.get_test_ner_data(test_reviews_path, vocab2id)"
   ]
  },
  {
   "cell_type": "code",
   "execution_count": 3,
   "metadata": {},
   "outputs": [],
   "source": [
    "max_sent_len = 0\n",
    "for item in content_data:\n",
    "    if len(item) > max_sent_len:\n",
    "        max_sent_len = len(item)\n",
    "for item in data:\n",
    "    if len(item) > max_sent_len:\n",
    "        max_sent_len = len(item)"
   ]
  },
  {
   "cell_type": "code",
   "execution_count": 4,
   "metadata": {},
   "outputs": [
    {
     "name": "stderr",
     "output_type": "stream",
     "text": [
      "W0826 10:25:54.582780 4458923456 deprecation_wrapper.py:119] From /Users/zhaoliang/anaconda3/lib/python3.6/site-packages/keras/backend/tensorflow_backend.py:517: The name tf.placeholder is deprecated. Please use tf.compat.v1.placeholder instead.\n",
      "\n",
      "W0826 10:25:54.596755 4458923456 deprecation_wrapper.py:119] From /Users/zhaoliang/anaconda3/lib/python3.6/site-packages/keras/backend/tensorflow_backend.py:4138: The name tf.random_uniform is deprecated. Please use tf.random.uniform instead.\n",
      "\n",
      "W0826 10:25:54.607737 4458923456 deprecation_wrapper.py:119] From /Users/zhaoliang/anaconda3/lib/python3.6/site-packages/keras/backend/tensorflow_backend.py:74: The name tf.get_default_graph is deprecated. Please use tf.compat.v1.get_default_graph instead.\n",
      "\n",
      "W0826 10:25:55.185096 4458923456 deprecation_wrapper.py:119] From /Users/zhaoliang/anaconda3/lib/python3.6/site-packages/keras/backend/tensorflow_backend.py:133: The name tf.placeholder_with_default is deprecated. Please use tf.compat.v1.placeholder_with_default instead.\n",
      "\n",
      "W0826 10:25:55.191988 4458923456 deprecation.py:506] From /Users/zhaoliang/anaconda3/lib/python3.6/site-packages/keras/backend/tensorflow_backend.py:3445: calling dropout (from tensorflow.python.ops.nn_ops) with keep_prob is deprecated and will be removed in a future version.\n",
      "Instructions for updating:\n",
      "Please use `rate` instead of `keep_prob`. Rate should be set to `rate = 1 - keep_prob`.\n",
      "/Users/zhaoliang/gitProject/zhijiang/code/ModelSet.py:44: UserWarning: Update your `Model` call to the Keras 2 API: `Model(inputs=[<tf.Tenso..., outputs=[<tf.Tenso...)`\n",
      "  model = Model(input=[input_layer], output=[crf_output])\n",
      "/Users/zhaoliang/anaconda3/lib/python3.6/site-packages/keras_contrib/layers/crf.py:346: UserWarning: CRF.loss_function is deprecated and it might be removed in the future. Please use losses.crf_loss instead.\n",
      "  warnings.warn('CRF.loss_function is deprecated '\n",
      "/Users/zhaoliang/anaconda3/lib/python3.6/site-packages/keras_contrib/layers/crf.py:353: UserWarning: CRF.accuracy is deprecated and it might be removed in the future. Please use metrics.crf_accuracy\n",
      "  warnings.warn('CRF.accuracy is deprecated and it '\n",
      "W0826 10:25:55.403866 4458923456 deprecation_wrapper.py:119] From /Users/zhaoliang/anaconda3/lib/python3.6/site-packages/keras/optimizers.py:790: The name tf.train.Optimizer is deprecated. Please use tf.compat.v1.train.Optimizer instead.\n",
      "\n",
      "W0826 10:25:55.488786 4458923456 deprecation.py:323] From /Users/zhaoliang/anaconda3/lib/python3.6/site-packages/tensorflow/python/ops/math_ops.py:2403: add_dispatch_support.<locals>.wrapper (from tensorflow.python.ops.array_ops) is deprecated and will be removed in a future version.\n",
      "Instructions for updating:\n",
      "Use tf.where in 2.0, which has the same broadcast rule as np.where\n"
     ]
    },
    {
     "name": "stdout",
     "output_type": "stream",
     "text": [
      "_________________________________________________________________\n",
      "Layer (type)                 Output Shape              Param #   \n",
      "=================================================================\n",
      "input_layer (InputLayer)     (None, 47)                0         \n",
      "_________________________________________________________________\n",
      "embedding_layer (Embedding)  (None, 47, 128)           387968    \n",
      "_________________________________________________________________\n",
      "bidirectional_1 (Bidirection (None, 47, 64)            41216     \n",
      "_________________________________________________________________\n",
      "dropout_1 (Dropout)          (None, 47, 64)            0         \n",
      "_________________________________________________________________\n",
      "crf_1 (CRF)                  (None, 47, 5)             360       \n",
      "=================================================================\n",
      "Total params: 429,544\n",
      "Trainable params: 429,544\n",
      "Non-trainable params: 0\n",
      "_________________________________________________________________\n"
     ]
    },
    {
     "name": "stderr",
     "output_type": "stream",
     "text": [
      "W0826 10:25:57.424808 4458923456 deprecation_wrapper.py:119] From /Users/zhaoliang/anaconda3/lib/python3.6/site-packages/keras/backend/tensorflow_backend.py:986: The name tf.assign_add is deprecated. Please use tf.compat.v1.assign_add instead.\n",
      "\n"
     ]
    },
    {
     "name": "stdout",
     "output_type": "stream",
     "text": [
      "Train on 2906 samples, validate on 323 samples\n",
      "Epoch 1/500\n",
      "2906/2906 [==============================] - 8s 3ms/step - loss: 0.4539 - crf_viterbi_accuracy: 0.8668 - val_loss: 0.2349 - val_crf_viterbi_accuracy: 0.9177\n",
      "Epoch 2/500\n",
      "2906/2906 [==============================] - 6s 2ms/step - loss: 0.2084 - crf_viterbi_accuracy: 0.9208 - val_loss: 0.1604 - val_crf_viterbi_accuracy: 0.9424\n",
      "Epoch 3/500\n",
      "2906/2906 [==============================] - 6s 2ms/step - loss: 0.1436 - crf_viterbi_accuracy: 0.9478 - val_loss: 0.1222 - val_crf_viterbi_accuracy: 0.9592\n",
      "Epoch 4/500\n",
      "2906/2906 [==============================] - 6s 2ms/step - loss: 0.1091 - crf_viterbi_accuracy: 0.9625 - val_loss: 0.1027 - val_crf_viterbi_accuracy: 0.9675\n",
      "Epoch 5/500\n",
      "2906/2906 [==============================] - 6s 2ms/step - loss: 0.0896 - crf_viterbi_accuracy: 0.9700 - val_loss: 0.0927 - val_crf_viterbi_accuracy: 0.9708\n",
      "Epoch 6/500\n",
      "2906/2906 [==============================] - 6s 2ms/step - loss: 0.0777 - crf_viterbi_accuracy: 0.9745 - val_loss: 0.0868 - val_crf_viterbi_accuracy: 0.9725\n",
      "Epoch 7/500\n",
      "2906/2906 [==============================] - 6s 2ms/step - loss: 0.0681 - crf_viterbi_accuracy: 0.9784 - val_loss: 0.0832 - val_crf_viterbi_accuracy: 0.9731\n",
      "Epoch 8/500\n",
      "2906/2906 [==============================] - 6s 2ms/step - loss: 0.0606 - crf_viterbi_accuracy: 0.9810 - val_loss: 0.0813 - val_crf_viterbi_accuracy: 0.9737\n",
      "Epoch 9/500\n",
      "2906/2906 [==============================] - 6s 2ms/step - loss: 0.0548 - crf_viterbi_accuracy: 0.9827 - val_loss: 0.0826 - val_crf_viterbi_accuracy: 0.9729\n",
      "Epoch 10/500\n",
      "2906/2906 [==============================] - 6s 2ms/step - loss: 0.0502 - crf_viterbi_accuracy: 0.9839 - val_loss: 0.0792 - val_crf_viterbi_accuracy: 0.9735\n",
      "Epoch 11/500\n",
      "2906/2906 [==============================] - 6s 2ms/step - loss: 0.0463 - crf_viterbi_accuracy: 0.9853 - val_loss: 0.0801 - val_crf_viterbi_accuracy: 0.9740\n",
      "Epoch 12/500\n",
      "2906/2906 [==============================] - 6s 2ms/step - loss: 0.0428 - crf_viterbi_accuracy: 0.9863 - val_loss: 0.0816 - val_crf_viterbi_accuracy: 0.9724\n",
      "Epoch 13/500\n",
      "2906/2906 [==============================] - 6s 2ms/step - loss: 0.0397 - crf_viterbi_accuracy: 0.9874 - val_loss: 0.0848 - val_crf_viterbi_accuracy: 0.9715\n",
      "Epoch 14/500\n",
      "2906/2906 [==============================] - 6s 2ms/step - loss: 0.0367 - crf_viterbi_accuracy: 0.9882 - val_loss: 0.0821 - val_crf_viterbi_accuracy: 0.9741\n",
      "Epoch 15/500\n",
      "2906/2906 [==============================] - 6s 2ms/step - loss: 0.0341 - crf_viterbi_accuracy: 0.9887 - val_loss: 0.0842 - val_crf_viterbi_accuracy: 0.9727\n",
      "Epoch 16/500\n",
      "2906/2906 [==============================] - 6s 2ms/step - loss: 0.0320 - crf_viterbi_accuracy: 0.9897 - val_loss: 0.0851 - val_crf_viterbi_accuracy: 0.9734\n",
      "Epoch 17/500\n",
      "2906/2906 [==============================] - 6s 2ms/step - loss: 0.0294 - crf_viterbi_accuracy: 0.9902 - val_loss: 0.0877 - val_crf_viterbi_accuracy: 0.9714\n",
      "Epoch 18/500\n",
      "2906/2906 [==============================] - 6s 2ms/step - loss: 0.0270 - crf_viterbi_accuracy: 0.9910 - val_loss: 0.0900 - val_crf_viterbi_accuracy: 0.9724\n",
      "Epoch 19/500\n",
      "2906/2906 [==============================] - 6s 2ms/step - loss: 0.0246 - crf_viterbi_accuracy: 0.9917 - val_loss: 0.0904 - val_crf_viterbi_accuracy: 0.9726\n",
      "Epoch 20/500\n",
      "2906/2906 [==============================] - 6s 2ms/step - loss: 0.0229 - crf_viterbi_accuracy: 0.9919 - val_loss: 0.0927 - val_crf_viterbi_accuracy: 0.9711\n",
      "Epoch 00020: early stopping\n"
     ]
    }
   ],
   "source": [
    "ner = NERModel(maxlen = max_sent_len, word_dict_size = len(vocab2id), word_vec_size = 128, class_label_count = len(chunk2id))\n",
    "ner.train(ner_data, ner_label )\n",
    "ner_result = ner.predict(data, id2chunk)"
   ]
  },
  {
   "cell_type": "code",
   "execution_count": 5,
   "metadata": {},
   "outputs": [],
   "source": [
    "from GenSubmit import GenSubmit\n",
    "gs = GenSubmit(list(process_data.train_reviews['Reviews']) + sents, id2vocab)"
   ]
  },
  {
   "cell_type": "code",
   "execution_count": 6,
   "metadata": {},
   "outputs": [
    {
     "name": "stdout",
     "output_type": "stream",
     "text": [
      "40\n",
      "双十一买的73 120ml特别划得来，希望以后能多多做活动。\n",
      "[]\n",
      "['特别UNK']\n",
      "********************\n",
      "225\n",
      "用了感觉脸上闷闷的\n",
      "[]\n",
      "['UNK的']\n",
      "********************\n",
      "242\n",
      "第一次买也是最后一次买，除了便宜...\n",
      "[]\n",
      "['便宜UNK']\n",
      "********************\n",
      "397\n",
      "补水功能强大，跟绵\n",
      "[]\n",
      "['补水UNK']\n",
      "********************\n",
      "464\n",
      "用几天了，感觉不像正品。液体太稀\n",
      "[]\n",
      "['UNK正品']\n",
      "********************\n",
      "581\n",
      "收到宝贝打开一看，挺不错身，不过过没用，等用过再来追评。\n",
      "[]\n",
      "['挺不错UNK']\n",
      "********************\n",
      "1233\n",
      "外面有点脏，打开盖，霜都泄露了(눈_눈)\n",
      "[]\n",
      "['有点UNK']\n",
      "********************\n",
      "1762\n",
      "这个对于我这种干皮来书就是大救星，很细润，如果你也和我一样是很干的皮肤的话就可以用来试试\n",
      "[]\n",
      "['很UNK']\n",
      "********************\n"
     ]
    }
   ],
   "source": [
    "ner_table = gs.get_ner_result(ids, sents, data, ner_result)\n",
    "ret_content_arr, ret_aspect_arr, ret_opinion_arr = get_data_obj.get_test_category_polarity_data(ner_table, vocab2id)"
   ]
  },
  {
   "cell_type": "code",
   "execution_count": 7,
   "metadata": {},
   "outputs": [
    {
     "data": {
      "text/plain": [
       "2237"
      ]
     },
     "execution_count": 7,
     "metadata": {},
     "output_type": "execute_result"
    }
   ],
   "source": [
    "len(ner_result)"
   ]
  },
  {
   "cell_type": "code",
   "execution_count": 8,
   "metadata": {},
   "outputs": [
    {
     "data": {
      "text/html": [
       "<div>\n",
       "<style scoped>\n",
       "    .dataframe tbody tr th:only-of-type {\n",
       "        vertical-align: middle;\n",
       "    }\n",
       "\n",
       "    .dataframe tbody tr th {\n",
       "        vertical-align: top;\n",
       "    }\n",
       "\n",
       "    .dataframe thead th {\n",
       "        text-align: right;\n",
       "    }\n",
       "</style>\n",
       "<table border=\"1\" class=\"dataframe\">\n",
       "  <thead>\n",
       "    <tr style=\"text-align: right;\">\n",
       "      <th></th>\n",
       "      <th>id</th>\n",
       "      <th>Reviews</th>\n",
       "      <th>AspectTerms</th>\n",
       "      <th>A_start</th>\n",
       "      <th>A_end</th>\n",
       "      <th>OpinionTerms</th>\n",
       "      <th>O_start</th>\n",
       "      <th>O_end</th>\n",
       "    </tr>\n",
       "  </thead>\n",
       "  <tbody>\n",
       "    <tr>\n",
       "      <th>0</th>\n",
       "      <td>1</td>\n",
       "      <td>最近太忙一直没有空来评价，东西已试过是正品，擦在脸上勾称白嫩，是个不错的商品</td>\n",
       "      <td>_</td>\n",
       "      <td></td>\n",
       "      <td></td>\n",
       "      <td>是正品</td>\n",
       "      <td>18</td>\n",
       "      <td>21</td>\n",
       "    </tr>\n",
       "    <tr>\n",
       "      <th>1</th>\n",
       "      <td>1</td>\n",
       "      <td>最近太忙一直没有空来评价，东西已试过是正品，擦在脸上勾称白嫩，是个不错的商品</td>\n",
       "      <td>_</td>\n",
       "      <td></td>\n",
       "      <td></td>\n",
       "      <td>白嫩</td>\n",
       "      <td>28</td>\n",
       "      <td>30</td>\n",
       "    </tr>\n",
       "    <tr>\n",
       "      <th>2</th>\n",
       "      <td>1</td>\n",
       "      <td>最近太忙一直没有空来评价，东西已试过是正品，擦在脸上勾称白嫩，是个不错的商品</td>\n",
       "      <td>_</td>\n",
       "      <td></td>\n",
       "      <td></td>\n",
       "      <td>不错</td>\n",
       "      <td>33</td>\n",
       "      <td>35</td>\n",
       "    </tr>\n",
       "    <tr>\n",
       "      <th>3</th>\n",
       "      <td>2</td>\n",
       "      <td>这款气垫，不是我喜欢的，因为颜色明显，还有让人家一眼就看出</td>\n",
       "      <td>颜色</td>\n",
       "      <td>14</td>\n",
       "      <td>16</td>\n",
       "      <td>_</td>\n",
       "      <td></td>\n",
       "      <td></td>\n",
       "    </tr>\n",
       "    <tr>\n",
       "      <th>4</th>\n",
       "      <td>2</td>\n",
       "      <td>这款气垫，不是我喜欢的，因为颜色明显，还有让人家一眼就看出</td>\n",
       "      <td>_</td>\n",
       "      <td></td>\n",
       "      <td></td>\n",
       "      <td>不是</td>\n",
       "      <td>5</td>\n",
       "      <td>7</td>\n",
       "    </tr>\n",
       "  </tbody>\n",
       "</table>\n",
       "</div>"
      ],
      "text/plain": [
       "   id                                 Reviews AspectTerms A_start A_end  \\\n",
       "0   1  最近太忙一直没有空来评价，东西已试过是正品，擦在脸上勾称白嫩，是个不错的商品           _                 \n",
       "1   1  最近太忙一直没有空来评价，东西已试过是正品，擦在脸上勾称白嫩，是个不错的商品           _                 \n",
       "2   1  最近太忙一直没有空来评价，东西已试过是正品，擦在脸上勾称白嫩，是个不错的商品           _                 \n",
       "3   2           这款气垫，不是我喜欢的，因为颜色明显，还有让人家一眼就看出          颜色      14    16   \n",
       "4   2           这款气垫，不是我喜欢的，因为颜色明显，还有让人家一眼就看出           _                 \n",
       "\n",
       "  OpinionTerms O_start O_end  \n",
       "0          是正品      18    21  \n",
       "1           白嫩      28    30  \n",
       "2           不错      33    35  \n",
       "3            _                \n",
       "4           不是       5     7  "
      ]
     },
     "execution_count": 8,
     "metadata": {},
     "output_type": "execute_result"
    }
   ],
   "source": [
    "ner_table.head()"
   ]
  },
  {
   "cell_type": "code",
   "execution_count": 9,
   "metadata": {},
   "outputs": [],
   "source": [
    "aspect_max_len = 0\n",
    "for item in aspect_data:\n",
    "    if len(item) > aspect_max_len:\n",
    "        aspect_max_len = len(item)\n",
    "for item in ret_aspect_arr:\n",
    "    if len(item) > aspect_max_len:\n",
    "        aspect_max_len = len(item)\n",
    "        \n",
    "option_max_len = 0\n",
    "for item in opinion_data:\n",
    "    if len(item) > option_max_len:\n",
    "        option_max_len = len(item)\n",
    "for item in ret_opinion_arr:\n",
    "    if len(item) > option_max_len:\n",
    "        option_max_len = len(item)"
   ]
  },
  {
   "cell_type": "code",
   "execution_count": 10,
   "metadata": {},
   "outputs": [],
   "source": [
    "for i in range(len(aspect_data)):\n",
    "    for k in range(len(aspect_data[i])):\n",
    "        if aspect_data[i][k] is None:\n",
    "            print(aspect_data[i])\n",
    "            print(1)"
   ]
  },
  {
   "cell_type": "code",
   "execution_count": 11,
   "metadata": {
    "scrolled": true
   },
   "outputs": [
    {
     "name": "stderr",
     "output_type": "stream",
     "text": [
      "/Users/zhaoliang/gitProject/zhijiang/code/ModelSet.py:175: UserWarning: Update your `Conv1D` call to the Keras 2 API: `Conv1D(filters=50, kernel_size=5, padding=\"valid\")`\n",
      "  conv_layer = Conv1D(nb_filter=50, filter_length=(2 * half_window_size + 1), border_mode='valid')\n",
      "W0826 10:28:07.493206 4458923456 deprecation_wrapper.py:119] From /Users/zhaoliang/anaconda3/lib/python3.6/site-packages/keras/backend/tensorflow_backend.py:3980: The name tf.nn.avg_pool is deprecated. Please use tf.nn.avg_pool2d instead.\n",
      "\n",
      "/Users/zhaoliang/gitProject/zhijiang/code/ModelSet.py:188: UserWarning: Update your `Model` call to the Keras 2 API: `Model(inputs=[<tf.Tenso..., outputs=Tensor(\"de...)`\n",
      "  model = Model(input=[content_input_layer, aspect_input_layer, option_input_layer], output=output)\n"
     ]
    },
    {
     "name": "stdout",
     "output_type": "stream",
     "text": [
      "__________________________________________________________________________________________________\n",
      "Layer (type)                    Output Shape         Param #     Connected to                     \n",
      "==================================================================================================\n",
      "content_input_layer (InputLayer (None, 47)           0                                            \n",
      "__________________________________________________________________________________________________\n",
      "aspect_input_layer (InputLayer) (None, 4)            0                                            \n",
      "__________________________________________________________________________________________________\n",
      "option_input_layer (InputLayer) (None, 6)            0                                            \n",
      "__________________________________________________________________________________________________\n",
      "embedding_layer (Embedding)     multiple             387968      content_input_layer[0][0]        \n",
      "                                                                 aspect_input_layer[0][0]         \n",
      "                                                                 option_input_layer[0][0]         \n",
      "__________________________________________________________________________________________________\n",
      "zero_padding1d_1 (ZeroPadding1D multiple             0           embedding_layer[0][0]            \n",
      "                                                                 embedding_layer[1][0]            \n",
      "                                                                 embedding_layer[2][0]            \n",
      "__________________________________________________________________________________________________\n",
      "conv1d_1 (Conv1D)               multiple             32050       zero_padding1d_1[0][0]           \n",
      "                                                                 zero_padding1d_1[1][0]           \n",
      "                                                                 zero_padding1d_1[2][0]           \n",
      "__________________________________________________________________________________________________\n",
      "pooling (AveragePooling1D)      multiple             0           conv1d_1[0][0]                   \n",
      "                                                                 conv1d_1[1][0]                   \n",
      "                                                                 conv1d_1[2][0]                   \n",
      "__________________________________________________________________________________________________\n",
      "concatenate_1 (Concatenate)     (None, 28, 50)       0           pooling[0][0]                    \n",
      "                                                                 pooling[1][0]                    \n",
      "                                                                 pooling[2][0]                    \n",
      "__________________________________________________________________________________________________\n",
      "flatten_1 (Flatten)             (None, 1400)         0           concatenate_1[0][0]              \n",
      "__________________________________________________________________________________________________\n",
      "dense_1 (Dense)                 (None, 13)           18213       flatten_1[0][0]                  \n",
      "==================================================================================================\n",
      "Total params: 438,231\n",
      "Trainable params: 438,231\n",
      "Non-trainable params: 0\n",
      "__________________________________________________________________________________________________\n",
      "Train on 5969 samples, validate on 664 samples\n",
      "Epoch 1/500\n",
      "5969/5969 [==============================] - 3s 441us/step - loss: 1.3680 - acc: 0.5726 - val_loss: 0.8067 - val_acc: 0.7651\n",
      "Epoch 2/500\n",
      "5969/5969 [==============================] - 2s 339us/step - loss: 0.5522 - acc: 0.8442 - val_loss: 0.4619 - val_acc: 0.8720\n",
      "Epoch 3/500\n",
      "5969/5969 [==============================] - 2s 337us/step - loss: 0.3453 - acc: 0.9070 - val_loss: 0.3750 - val_acc: 0.8961\n",
      "Epoch 4/500\n",
      "5969/5969 [==============================] - 2s 337us/step - loss: 0.2583 - acc: 0.9335 - val_loss: 0.3448 - val_acc: 0.9096\n",
      "Epoch 5/500\n",
      "5969/5969 [==============================] - 2s 340us/step - loss: 0.2048 - acc: 0.9454 - val_loss: 0.3343 - val_acc: 0.9217\n",
      "Epoch 6/500\n",
      "5969/5969 [==============================] - 2s 339us/step - loss: 0.1663 - acc: 0.9574 - val_loss: 0.3242 - val_acc: 0.9172\n",
      "Epoch 7/500\n",
      "5969/5969 [==============================] - 2s 341us/step - loss: 0.1372 - acc: 0.9655 - val_loss: 0.3355 - val_acc: 0.9172\n",
      "Epoch 8/500\n",
      "5969/5969 [==============================] - 2s 342us/step - loss: 0.1155 - acc: 0.9702 - val_loss: 0.3320 - val_acc: 0.9172\n",
      "Epoch 9/500\n",
      "5969/5969 [==============================] - 2s 338us/step - loss: 0.0970 - acc: 0.9781 - val_loss: 0.3564 - val_acc: 0.9187\n",
      "Epoch 10/500\n",
      "5969/5969 [==============================] - 2s 337us/step - loss: 0.0831 - acc: 0.9784 - val_loss: 0.3624 - val_acc: 0.9021\n",
      "Epoch 11/500\n",
      "5969/5969 [==============================] - 2s 340us/step - loss: 0.0695 - acc: 0.9826 - val_loss: 0.3756 - val_acc: 0.9157\n",
      "Epoch 12/500\n",
      "5969/5969 [==============================] - 2s 339us/step - loss: 0.0580 - acc: 0.9866 - val_loss: 0.3944 - val_acc: 0.9006\n",
      "Epoch 13/500\n",
      "5969/5969 [==============================] - 2s 336us/step - loss: 0.0489 - acc: 0.9876 - val_loss: 0.3743 - val_acc: 0.9096\n",
      "Epoch 14/500\n",
      "5969/5969 [==============================] - 2s 340us/step - loss: 0.0417 - acc: 0.9898 - val_loss: 0.4079 - val_acc: 0.9066\n",
      "Epoch 15/500\n",
      "5969/5969 [==============================] - 2s 338us/step - loss: 0.0359 - acc: 0.9916 - val_loss: 0.3990 - val_acc: 0.9081\n",
      "Epoch 16/500\n",
      "5969/5969 [==============================] - 2s 340us/step - loss: 0.0324 - acc: 0.9930 - val_loss: 0.4135 - val_acc: 0.9111\n",
      "Epoch 17/500\n",
      "5969/5969 [==============================] - 2s 343us/step - loss: 0.0274 - acc: 0.9938 - val_loss: 0.4340 - val_acc: 0.9096\n",
      "Epoch 18/500\n",
      "5969/5969 [==============================] - 2s 339us/step - loss: 0.0256 - acc: 0.9948 - val_loss: 0.4177 - val_acc: 0.9036\n",
      "Epoch 19/500\n",
      "5969/5969 [==============================] - 2s 336us/step - loss: 0.0211 - acc: 0.9956 - val_loss: 0.4156 - val_acc: 0.9157\n",
      "Epoch 20/500\n",
      "5969/5969 [==============================] - 2s 339us/step - loss: 0.0207 - acc: 0.9955 - val_loss: 0.4509 - val_acc: 0.9127\n",
      "Epoch 21/500\n",
      "5969/5969 [==============================] - 2s 342us/step - loss: 0.0182 - acc: 0.9961 - val_loss: 0.4478 - val_acc: 0.9202\n",
      "Epoch 22/500\n",
      "5969/5969 [==============================] - 2s 347us/step - loss: 0.0155 - acc: 0.9973 - val_loss: 0.4494 - val_acc: 0.9142\n",
      "Epoch 23/500\n",
      "5969/5969 [==============================] - 2s 343us/step - loss: 0.0149 - acc: 0.9975 - val_loss: 0.4736 - val_acc: 0.9157\n",
      "Epoch 24/500\n",
      "5969/5969 [==============================] - 2s 343us/step - loss: 0.0123 - acc: 0.9980 - val_loss: 0.4859 - val_acc: 0.9096\n",
      "Epoch 25/500\n",
      "5969/5969 [==============================] - 2s 343us/step - loss: 0.0115 - acc: 0.9980 - val_loss: 0.4935 - val_acc: 0.9172\n",
      "Epoch 26/500\n",
      "5969/5969 [==============================] - 2s 340us/step - loss: 0.0115 - acc: 0.9975 - val_loss: 0.5208 - val_acc: 0.9096\n",
      "Epoch 00026: early stopping\n"
     ]
    }
   ],
   "source": [
    "cc = CategoriesClassifier(content_max_len = max_sent_len, aspect_max_len=aspect_max_len, option_max_len=option_max_len, categories_num=len(id2categories), word_dict_size=len(vocab2id), word_vec_size=128)\n",
    "cc.train(content_data, aspect_data, opinion_data, category_label)\n"
   ]
  },
  {
   "cell_type": "code",
   "execution_count": 12,
   "metadata": {
    "scrolled": true
   },
   "outputs": [
    {
     "name": "stdout",
     "output_type": "stream",
     "text": [
      "__________________________________________________________________________________________________\n",
      "Layer (type)                    Output Shape         Param #     Connected to                     \n",
      "==================================================================================================\n",
      "content_input_layer (InputLayer (None, 47)           0                                            \n",
      "__________________________________________________________________________________________________\n",
      "aspect_input_layer (InputLayer) (None, 4)            0                                            \n",
      "__________________________________________________________________________________________________\n",
      "option_input_layer (InputLayer) (None, 6)            0                                            \n",
      "__________________________________________________________________________________________________\n",
      "embedding_layer (Embedding)     multiple             387968      content_input_layer[0][0]        \n",
      "                                                                 aspect_input_layer[0][0]         \n",
      "                                                                 option_input_layer[0][0]         \n",
      "__________________________________________________________________________________________________\n",
      "zero_padding1d_2 (ZeroPadding1D multiple             0           embedding_layer[0][0]            \n",
      "                                                                 embedding_layer[1][0]            \n",
      "                                                                 embedding_layer[2][0]            \n",
      "__________________________________________________________________________________________________\n",
      "conv1d_2 (Conv1D)               multiple             32050       zero_padding1d_2[0][0]           \n",
      "                                                                 zero_padding1d_2[1][0]           \n",
      "                                                                 zero_padding1d_2[2][0]           \n",
      "__________________________________________________________________________________________________\n",
      "pooling (AveragePooling1D)      multiple             0           conv1d_2[0][0]                   \n",
      "                                                                 conv1d_2[1][0]                   \n",
      "                                                                 conv1d_2[2][0]                   \n",
      "__________________________________________________________________________________________________\n",
      "concatenate_2 (Concatenate)     (None, 28, 50)       0           pooling[0][0]                    \n",
      "                                                                 pooling[1][0]                    \n",
      "                                                                 pooling[2][0]                    \n",
      "__________________________________________________________________________________________________\n",
      "flatten_2 (Flatten)             (None, 1400)         0           concatenate_2[0][0]              \n",
      "__________________________________________________________________________________________________\n",
      "dense_2 (Dense)                 (None, 1)            1401        flatten_2[0][0]                  \n",
      "==================================================================================================\n",
      "Total params: 421,419\n",
      "Trainable params: 421,419\n",
      "Non-trainable params: 0\n",
      "__________________________________________________________________________________________________\n"
     ]
    },
    {
     "name": "stderr",
     "output_type": "stream",
     "text": [
      "/Users/zhaoliang/gitProject/zhijiang/code/ModelSet.py:99: UserWarning: Update your `Conv1D` call to the Keras 2 API: `Conv1D(filters=50, kernel_size=5, padding=\"valid\")`\n",
      "  conv_layer = Conv1D(nb_filter=50, filter_length=(2 * half_window_size + 1), border_mode='valid')\n",
      "/Users/zhaoliang/gitProject/zhijiang/code/ModelSet.py:112: UserWarning: Update your `Model` call to the Keras 2 API: `Model(inputs=[<tf.Tenso..., outputs=Tensor(\"de...)`\n",
      "  model = Model(input=[content_input_layer, aspect_input_layer, option_input_layer], output=output)\n"
     ]
    },
    {
     "name": "stdout",
     "output_type": "stream",
     "text": [
      "Train on 5969 samples, validate on 664 samples\n",
      "Epoch 1/500\n",
      "5969/5969 [==============================] - 3s 459us/step - loss: 0.2360 - acc: 0.9186 - val_loss: 0.0953 - val_acc: 0.9654\n",
      "Epoch 2/500\n",
      "5969/5969 [==============================] - 2s 342us/step - loss: 0.0850 - acc: 0.9702 - val_loss: 0.0791 - val_acc: 0.9729\n",
      "Epoch 3/500\n",
      "5969/5969 [==============================] - 2s 348us/step - loss: 0.0550 - acc: 0.9826 - val_loss: 0.0749 - val_acc: 0.9759\n",
      "Epoch 4/500\n",
      "5969/5969 [==============================] - 2s 353us/step - loss: 0.0403 - acc: 0.9879 - val_loss: 0.0765 - val_acc: 0.9744\n",
      "Epoch 5/500\n",
      "5969/5969 [==============================] - 2s 343us/step - loss: 0.0313 - acc: 0.9896 - val_loss: 0.1035 - val_acc: 0.9639\n",
      "Epoch 6/500\n",
      "5969/5969 [==============================] - 2s 342us/step - loss: 0.0255 - acc: 0.9915 - val_loss: 0.0865 - val_acc: 0.9684\n",
      "Epoch 7/500\n",
      "5969/5969 [==============================] - 2s 340us/step - loss: 0.0189 - acc: 0.9945 - val_loss: 0.0899 - val_acc: 0.9714\n",
      "Epoch 8/500\n",
      "5969/5969 [==============================] - 2s 342us/step - loss: 0.0142 - acc: 0.9953 - val_loss: 0.1016 - val_acc: 0.9654\n",
      "Epoch 9/500\n",
      "5969/5969 [==============================] - 2s 342us/step - loss: 0.0126 - acc: 0.9953 - val_loss: 0.0983 - val_acc: 0.9744\n",
      "Epoch 10/500\n",
      "5969/5969 [==============================] - 2s 343us/step - loss: 0.0100 - acc: 0.9966 - val_loss: 0.1181 - val_acc: 0.9684\n",
      "Epoch 11/500\n",
      "5969/5969 [==============================] - 2s 342us/step - loss: 0.0080 - acc: 0.9968 - val_loss: 0.1020 - val_acc: 0.9714\n",
      "Epoch 12/500\n",
      "5969/5969 [==============================] - 2s 345us/step - loss: 0.0060 - acc: 0.9978 - val_loss: 0.1207 - val_acc: 0.9654\n",
      "Epoch 13/500\n",
      "5969/5969 [==============================] - 2s 345us/step - loss: 0.0063 - acc: 0.9982 - val_loss: 0.1064 - val_acc: 0.9699\n",
      "Epoch 00013: early stopping\n"
     ]
    }
   ],
   "source": [
    "pc = PolaritiesClassifier(content_max_len = max_sent_len, aspect_max_len=aspect_max_len, option_max_len=option_max_len, word_dict_size=len(vocab2id), word_vec_size=128)\n",
    "pc.train(content_data, aspect_data, opinion_data, polarity_label)\n"
   ]
  },
  {
   "cell_type": "code",
   "execution_count": 13,
   "metadata": {
    "scrolled": true
   },
   "outputs": [
    {
     "data": {
      "text/plain": [
       "[0]"
      ]
     },
     "execution_count": 13,
     "metadata": {},
     "output_type": "execute_result"
    }
   ],
   "source": [
    "ret_aspect_arr[0]"
   ]
  },
  {
   "cell_type": "code",
   "execution_count": 14,
   "metadata": {},
   "outputs": [],
   "source": [
    "cc_result = cc.predict(ret_content_arr, ret_aspect_arr, ret_aspect_arr, id2categories)\n",
    "pc_result = pc.predict(ret_content_arr, ret_aspect_arr, ret_opinion_arr)\n",
    "ner_table['Categories'] = cc_result\n",
    "ner_table['Polarities'] = pc_result\n",
    "final_table = ner_table[['id', 'AspectTerms', 'OpinionTerms', 'Categories', 'Polarities']]\n",
    "final_table.to_csv('../result/2019-08-26.csv', header=None, index=False)"
   ]
  },
  {
   "cell_type": "code",
   "execution_count": 15,
   "metadata": {},
   "outputs": [
    {
     "data": {
      "text/html": [
       "<div>\n",
       "<style scoped>\n",
       "    .dataframe tbody tr th:only-of-type {\n",
       "        vertical-align: middle;\n",
       "    }\n",
       "\n",
       "    .dataframe tbody tr th {\n",
       "        vertical-align: top;\n",
       "    }\n",
       "\n",
       "    .dataframe thead th {\n",
       "        text-align: right;\n",
       "    }\n",
       "</style>\n",
       "<table border=\"1\" class=\"dataframe\">\n",
       "  <thead>\n",
       "    <tr style=\"text-align: right;\">\n",
       "      <th></th>\n",
       "      <th>id</th>\n",
       "      <th>AspectTerms</th>\n",
       "      <th>OpinionTerms</th>\n",
       "      <th>Categories</th>\n",
       "      <th>Polarities</th>\n",
       "    </tr>\n",
       "  </thead>\n",
       "  <tbody>\n",
       "    <tr>\n",
       "      <th>0</th>\n",
       "      <td>1</td>\n",
       "      <td>_</td>\n",
       "      <td>是正品</td>\n",
       "      <td>使用体验</td>\n",
       "      <td>正面</td>\n",
       "    </tr>\n",
       "    <tr>\n",
       "      <th>1</th>\n",
       "      <td>1</td>\n",
       "      <td>_</td>\n",
       "      <td>白嫩</td>\n",
       "      <td>使用体验</td>\n",
       "      <td>正面</td>\n",
       "    </tr>\n",
       "    <tr>\n",
       "      <th>2</th>\n",
       "      <td>1</td>\n",
       "      <td>_</td>\n",
       "      <td>不错</td>\n",
       "      <td>使用体验</td>\n",
       "      <td>正面</td>\n",
       "    </tr>\n",
       "    <tr>\n",
       "      <th>3</th>\n",
       "      <td>2</td>\n",
       "      <td>颜色</td>\n",
       "      <td>_</td>\n",
       "      <td>功效</td>\n",
       "      <td>负面</td>\n",
       "    </tr>\n",
       "    <tr>\n",
       "      <th>4</th>\n",
       "      <td>2</td>\n",
       "      <td>_</td>\n",
       "      <td>不是</td>\n",
       "      <td>使用体验</td>\n",
       "      <td>负面</td>\n",
       "    </tr>\n",
       "  </tbody>\n",
       "</table>\n",
       "</div>"
      ],
      "text/plain": [
       "   id AspectTerms OpinionTerms Categories Polarities\n",
       "0   1           _          是正品       使用体验         正面\n",
       "1   1           _           白嫩       使用体验         正面\n",
       "2   1           _           不错       使用体验         正面\n",
       "3   2          颜色            _         功效         负面\n",
       "4   2           _           不是       使用体验         负面"
      ]
     },
     "execution_count": 15,
     "metadata": {},
     "output_type": "execute_result"
    }
   ],
   "source": [
    "final_table.head()"
   ]
  },
  {
   "cell_type": "code",
   "execution_count": 16,
   "metadata": {},
   "outputs": [
    {
     "data": {
      "text/plain": [
       "2237"
      ]
     },
     "execution_count": 16,
     "metadata": {},
     "output_type": "execute_result"
    }
   ],
   "source": [
    "len(list(set(final_table['id'])))"
   ]
  },
  {
   "cell_type": "code",
   "execution_count": 17,
   "metadata": {},
   "outputs": [
    {
     "data": {
      "text/plain": [
       "2237"
      ]
     },
     "execution_count": 17,
     "metadata": {},
     "output_type": "execute_result"
    }
   ],
   "source": [
    "len(list(set(ner_table['id'])))"
   ]
  },
  {
   "cell_type": "code",
   "execution_count": 18,
   "metadata": {},
   "outputs": [],
   "source": [
    "import pandas as pd\n",
    "table = pd.read_csv(test_reviews_path)"
   ]
  },
  {
   "cell_type": "code",
   "execution_count": 19,
   "metadata": {},
   "outputs": [
    {
     "data": {
      "text/plain": [
       "2237"
      ]
     },
     "execution_count": 19,
     "metadata": {},
     "output_type": "execute_result"
    }
   ],
   "source": [
    "len(list(set(table['id'])))"
   ]
  },
  {
   "cell_type": "code",
   "execution_count": 20,
   "metadata": {},
   "outputs": [],
   "source": [
    "for item in list(set(table['id'])):\n",
    "    if item not in list(set(final_table['id'])):\n",
    "        print(item)"
   ]
  }
 ],
 "metadata": {
  "kernelspec": {
   "display_name": "Python 3",
   "language": "python",
   "name": "python3"
  },
  "language_info": {
   "codemirror_mode": {
    "name": "ipython",
    "version": 3
   },
   "file_extension": ".py",
   "mimetype": "text/x-python",
   "name": "python",
   "nbconvert_exporter": "python",
   "pygments_lexer": "ipython3",
   "version": "3.6.5"
  }
 },
 "nbformat": 4,
 "nbformat_minor": 2
}
