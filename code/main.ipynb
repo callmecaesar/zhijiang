{
 "cells": [
  {
   "cell_type": "code",
   "execution_count": 1,
   "metadata": {},
   "outputs": [
    {
     "name": "stderr",
     "output_type": "stream",
     "text": [
      "/Users/zhaoliang/anaconda3/lib/python3.6/site-packages/h5py/__init__.py:36: FutureWarning: Conversion of the second argument of issubdtype from `float` to `np.floating` is deprecated. In future, it will be treated as `np.float64 == np.dtype(float).type`.\n",
      "  from ._conv import register_converters as _register_converters\n",
      "Using TensorFlow backend.\n"
     ]
    }
   ],
   "source": [
    "from TrainDataPreprocess import ProcessData\n",
    "from ModelSet import NERModel, CategoriesClassifier, PolaritiesClassifier\n",
    "from GetData import GetData\n",
    "\n",
    "train_reviews_path = '../data/Train_reviews.csv'\n",
    "train_labels_path = '../data/Train_labels.csv'\n",
    "test_reviews_path = '../data/Test_reviews.csv'"
   ]
  },
  {
   "cell_type": "code",
   "execution_count": 2,
   "metadata": {},
   "outputs": [
    {
     "name": "stderr",
     "output_type": "stream",
     "text": [
      "Building prefix dict from the default dictionary ...\n",
      "WARNING: Logging before flag parsing goes to stderr.\n",
      "I0823 17:09:58.628165 4511393216 __init__.py:111] Building prefix dict from the default dictionary ...\n",
      "Loading model from cache /var/folders/x8/4yf3l2h548b6w9d_ym2c1lvr0000gp/T/jieba.cache\n",
      "I0823 17:09:58.629618 4511393216 __init__.py:131] Loading model from cache /var/folders/x8/4yf3l2h548b6w9d_ym2c1lvr0000gp/T/jieba.cache\n"
     ]
    },
    {
     "name": "stdout",
     "output_type": "stream",
     "text": [
      "数据预处理...\n",
      "数据表整合完成...\n"
     ]
    },
    {
     "name": "stderr",
     "output_type": "stream",
     "text": [
      "Loading model cost 0.648 seconds.\n",
      "I0823 17:09:59.277382 4511393216 __init__.py:163] Loading model cost 0.648 seconds.\n",
      "Prefix dict has been built succesfully.\n",
      "I0823 17:09:59.278607 4511393216 __init__.py:164] Prefix dict has been built succesfully.\n"
     ]
    },
    {
     "name": "stdout",
     "output_type": "stream",
     "text": [
      "字典生成与存储...\n",
      "字典生成与存储完毕\n",
      "数据生成与存储...\n",
      "数据生成与存储完毕！\n"
     ]
    }
   ],
   "source": [
    "#预处理数据\n",
    "process_data = ProcessData(train_reviews_path, train_labels_path)\n",
    "process_data.sava_data()\n",
    "\n",
    "#获取训练数据和测试数据\n",
    "get_data_obj = GetData('char')\n",
    "chunk2id, id2chunk, vocab2id, id2vocab, ner_data, ner_label = get_data_obj.get_ner_train_data()\n",
    "content_data, aspect_data, opinion_data, category_label, id2categories = get_data_obj.get_categories_train_data()\n",
    "content_data, aspect_data, opinion_data, polarity_label, id2polarities = get_data_obj.get_polarities_train_data()\n",
    "ids, data, sents = get_data_obj.get_test_ner_data(test_reviews_path, vocab2id)"
   ]
  },
  {
   "cell_type": "code",
   "execution_count": 3,
   "metadata": {},
   "outputs": [],
   "source": [
    "max_sent_len = 0\n",
    "for item in content_data:\n",
    "    if len(item) > max_sent_len:\n",
    "        max_sent_len = len(item)\n",
    "for item in data:\n",
    "    if len(item) > max_sent_len:\n",
    "        max_sent_len = len(item)"
   ]
  },
  {
   "cell_type": "code",
   "execution_count": 4,
   "metadata": {},
   "outputs": [
    {
     "name": "stderr",
     "output_type": "stream",
     "text": [
      "W0823 17:10:07.805237 4511393216 deprecation_wrapper.py:119] From /Users/zhaoliang/anaconda3/lib/python3.6/site-packages/keras/backend/tensorflow_backend.py:517: The name tf.placeholder is deprecated. Please use tf.compat.v1.placeholder instead.\n",
      "\n",
      "W0823 17:10:07.819478 4511393216 deprecation_wrapper.py:119] From /Users/zhaoliang/anaconda3/lib/python3.6/site-packages/keras/backend/tensorflow_backend.py:4138: The name tf.random_uniform is deprecated. Please use tf.random.uniform instead.\n",
      "\n",
      "W0823 17:10:07.830490 4511393216 deprecation_wrapper.py:119] From /Users/zhaoliang/anaconda3/lib/python3.6/site-packages/keras/backend/tensorflow_backend.py:74: The name tf.get_default_graph is deprecated. Please use tf.compat.v1.get_default_graph instead.\n",
      "\n",
      "W0823 17:10:08.379146 4511393216 deprecation_wrapper.py:119] From /Users/zhaoliang/anaconda3/lib/python3.6/site-packages/keras/backend/tensorflow_backend.py:133: The name tf.placeholder_with_default is deprecated. Please use tf.compat.v1.placeholder_with_default instead.\n",
      "\n",
      "W0823 17:10:08.385949 4511393216 deprecation.py:506] From /Users/zhaoliang/anaconda3/lib/python3.6/site-packages/keras/backend/tensorflow_backend.py:3445: calling dropout (from tensorflow.python.ops.nn_ops) with keep_prob is deprecated and will be removed in a future version.\n",
      "Instructions for updating:\n",
      "Please use `rate` instead of `keep_prob`. Rate should be set to `rate = 1 - keep_prob`.\n",
      "/Users/zhaoliang/gitProject/zhijiang/code/ModelSet.py:44: UserWarning: Update your `Model` call to the Keras 2 API: `Model(inputs=[<tf.Tenso..., outputs=[<tf.Tenso...)`\n",
      "  model = Model(input=[input_layer], output=[crf_output])\n",
      "/Users/zhaoliang/anaconda3/lib/python3.6/site-packages/keras_contrib/layers/crf.py:346: UserWarning: CRF.loss_function is deprecated and it might be removed in the future. Please use losses.crf_loss instead.\n",
      "  warnings.warn('CRF.loss_function is deprecated '\n",
      "/Users/zhaoliang/anaconda3/lib/python3.6/site-packages/keras_contrib/layers/crf.py:353: UserWarning: CRF.accuracy is deprecated and it might be removed in the future. Please use metrics.crf_accuracy\n",
      "  warnings.warn('CRF.accuracy is deprecated and it '\n",
      "W0823 17:10:08.603693 4511393216 deprecation_wrapper.py:119] From /Users/zhaoliang/anaconda3/lib/python3.6/site-packages/keras/optimizers.py:790: The name tf.train.Optimizer is deprecated. Please use tf.compat.v1.train.Optimizer instead.\n",
      "\n",
      "W0823 17:10:08.687110 4511393216 deprecation.py:323] From /Users/zhaoliang/anaconda3/lib/python3.6/site-packages/tensorflow/python/ops/math_ops.py:2403: add_dispatch_support.<locals>.wrapper (from tensorflow.python.ops.array_ops) is deprecated and will be removed in a future version.\n",
      "Instructions for updating:\n",
      "Use tf.where in 2.0, which has the same broadcast rule as np.where\n"
     ]
    },
    {
     "name": "stdout",
     "output_type": "stream",
     "text": [
      "_________________________________________________________________\n",
      "Layer (type)                 Output Shape              Param #   \n",
      "=================================================================\n",
      "input_layer (InputLayer)     (None, 72)                0         \n",
      "_________________________________________________________________\n",
      "embedding_layer (Embedding)  (None, 72, 128)           165120    \n",
      "_________________________________________________________________\n",
      "bidirectional_1 (Bidirection (None, 72, 64)            41216     \n",
      "_________________________________________________________________\n",
      "dropout_1 (Dropout)          (None, 72, 64)            0         \n",
      "_________________________________________________________________\n",
      "crf_1 (CRF)                  (None, 72, 5)             360       \n",
      "=================================================================\n",
      "Total params: 206,696\n",
      "Trainable params: 206,696\n",
      "Non-trainable params: 0\n",
      "_________________________________________________________________\n"
     ]
    },
    {
     "name": "stderr",
     "output_type": "stream",
     "text": [
      "W0823 17:10:10.606213 4511393216 deprecation_wrapper.py:119] From /Users/zhaoliang/anaconda3/lib/python3.6/site-packages/keras/backend/tensorflow_backend.py:986: The name tf.assign_add is deprecated. Please use tf.compat.v1.assign_add instead.\n",
      "\n"
     ]
    },
    {
     "name": "stdout",
     "output_type": "stream",
     "text": [
      "Train on 2906 samples, validate on 323 samples\n",
      "Epoch 1/500\n",
      "2906/2906 [==============================] - 10s 4ms/step - loss: 0.3832 - crf_viterbi_accuracy: 0.9033 - val_loss: 0.2276 - val_crf_viterbi_accuracy: 0.9080\n",
      "Epoch 2/500\n",
      "2906/2906 [==============================] - 9s 3ms/step - loss: 0.1850 - crf_viterbi_accuracy: 0.9260 - val_loss: 0.1410 - val_crf_viterbi_accuracy: 0.9571\n",
      "Epoch 3/500\n",
      "2906/2906 [==============================] - 8s 3ms/step - loss: 0.1222 - crf_viterbi_accuracy: 0.9586 - val_loss: 0.1111 - val_crf_viterbi_accuracy: 0.9627\n",
      "Epoch 4/500\n",
      "2906/2906 [==============================] - 8s 3ms/step - loss: 0.0988 - crf_viterbi_accuracy: 0.9645 - val_loss: 0.0967 - val_crf_viterbi_accuracy: 0.9662\n",
      "Epoch 5/500\n",
      "2906/2906 [==============================] - 8s 3ms/step - loss: 0.0840 - crf_viterbi_accuracy: 0.9707 - val_loss: 0.0857 - val_crf_viterbi_accuracy: 0.9714\n",
      "Epoch 6/500\n",
      "2906/2906 [==============================] - 8s 3ms/step - loss: 0.0723 - crf_viterbi_accuracy: 0.9748 - val_loss: 0.0787 - val_crf_viterbi_accuracy: 0.9721\n",
      "Epoch 7/500\n",
      "2906/2906 [==============================] - 8s 3ms/step - loss: 0.0642 - crf_viterbi_accuracy: 0.9780 - val_loss: 0.0756 - val_crf_viterbi_accuracy: 0.9741\n",
      "Epoch 8/500\n",
      "2906/2906 [==============================] - 8s 3ms/step - loss: 0.0589 - crf_viterbi_accuracy: 0.9797 - val_loss: 0.0717 - val_crf_viterbi_accuracy: 0.9750\n",
      "Epoch 9/500\n",
      "2906/2906 [==============================] - 8s 3ms/step - loss: 0.0544 - crf_viterbi_accuracy: 0.9814 - val_loss: 0.0723 - val_crf_viterbi_accuracy: 0.9760\n",
      "Epoch 10/500\n",
      "2906/2906 [==============================] - 8s 3ms/step - loss: 0.0511 - crf_viterbi_accuracy: 0.9825 - val_loss: 0.0700 - val_crf_viterbi_accuracy: 0.9759\n",
      "Epoch 11/500\n",
      "2906/2906 [==============================] - 8s 3ms/step - loss: 0.0478 - crf_viterbi_accuracy: 0.9837 - val_loss: 0.0689 - val_crf_viterbi_accuracy: 0.9754\n",
      "Epoch 12/500\n",
      "2906/2906 [==============================] - 8s 3ms/step - loss: 0.0453 - crf_viterbi_accuracy: 0.9842 - val_loss: 0.0692 - val_crf_viterbi_accuracy: 0.9755\n",
      "Epoch 13/500\n",
      "2906/2906 [==============================] - 8s 3ms/step - loss: 0.0430 - crf_viterbi_accuracy: 0.9854 - val_loss: 0.0681 - val_crf_viterbi_accuracy: 0.9757\n",
      "Epoch 14/500\n",
      "2906/2906 [==============================] - 8s 3ms/step - loss: 0.0412 - crf_viterbi_accuracy: 0.9855 - val_loss: 0.0693 - val_crf_viterbi_accuracy: 0.9751\n",
      "Epoch 15/500\n",
      "2906/2906 [==============================] - 8s 3ms/step - loss: 0.0387 - crf_viterbi_accuracy: 0.9866 - val_loss: 0.0690 - val_crf_viterbi_accuracy: 0.9759\n",
      "Epoch 16/500\n",
      "2906/2906 [==============================] - 8s 3ms/step - loss: 0.0369 - crf_viterbi_accuracy: 0.9874 - val_loss: 0.0691 - val_crf_viterbi_accuracy: 0.9753\n",
      "Epoch 17/500\n",
      "2906/2906 [==============================] - 8s 3ms/step - loss: 0.0352 - crf_viterbi_accuracy: 0.9879 - val_loss: 0.0705 - val_crf_viterbi_accuracy: 0.9757\n",
      "Epoch 18/500\n",
      "2906/2906 [==============================] - 8s 3ms/step - loss: 0.0335 - crf_viterbi_accuracy: 0.9886 - val_loss: 0.0698 - val_crf_viterbi_accuracy: 0.9750\n",
      "Epoch 19/500\n",
      "2906/2906 [==============================] - 9s 3ms/step - loss: 0.0320 - crf_viterbi_accuracy: 0.9890 - val_loss: 0.0702 - val_crf_viterbi_accuracy: 0.9757\n",
      "Epoch 20/500\n",
      "2906/2906 [==============================] - 8s 3ms/step - loss: 0.0300 - crf_viterbi_accuracy: 0.9899 - val_loss: 0.0719 - val_crf_viterbi_accuracy: 0.9743\n",
      "Epoch 21/500\n",
      "2906/2906 [==============================] - 8s 3ms/step - loss: 0.0288 - crf_viterbi_accuracy: 0.9898 - val_loss: 0.0707 - val_crf_viterbi_accuracy: 0.9754\n",
      "Epoch 22/500\n",
      "2906/2906 [==============================] - 8s 3ms/step - loss: 0.0272 - crf_viterbi_accuracy: 0.9908 - val_loss: 0.0728 - val_crf_viterbi_accuracy: 0.9754\n",
      "Epoch 23/500\n",
      "2906/2906 [==============================] - 8s 3ms/step - loss: 0.0256 - crf_viterbi_accuracy: 0.9911 - val_loss: 0.0737 - val_crf_viterbi_accuracy: 0.9746\n",
      "Epoch 00023: early stopping\n"
     ]
    }
   ],
   "source": [
    "ner = NERModel(maxlen = max_sent_len, word_dict_size = len(vocab2id), word_vec_size = 128, class_label_count = len(chunk2id))\n",
    "ner.train(ner_data, ner_label )\n",
    "ner_result = ner.predict(data, id2chunk)"
   ]
  },
  {
   "cell_type": "code",
   "execution_count": 5,
   "metadata": {},
   "outputs": [],
   "source": [
    "from GenSubmit import GenSubmit\n",
    "gs = GenSubmit(list(process_data.train_reviews['Reviews']) + sents, id2vocab)"
   ]
  },
  {
   "cell_type": "code",
   "execution_count": 6,
   "metadata": {},
   "outputs": [],
   "source": [
    "ner_table = gs.get_ner_result(ids, sents, data, ner_result)\n",
    "ret_content_arr, ret_aspect_arr, ret_opinion_arr = get_data_obj.get_test_category_polarity_data(ner_table, vocab2id)"
   ]
  },
  {
   "cell_type": "code",
   "execution_count": 7,
   "metadata": {},
   "outputs": [],
   "source": [
    "aspect_max_len = 0\n",
    "for item in aspect_data:\n",
    "    if len(item) > aspect_max_len:\n",
    "        aspect_max_len = len(item)\n",
    "for item in ret_aspect_arr:\n",
    "    if len(item) > aspect_max_len:\n",
    "        aspect_max_len = len(item)\n",
    "        \n",
    "option_max_len = 0\n",
    "for item in opinion_data:\n",
    "    if len(item) > option_max_len:\n",
    "        option_max_len = len(item)\n",
    "for item in ret_opinion_arr:\n",
    "    if len(item) > option_max_len:\n",
    "        option_max_len = len(item)"
   ]
  },
  {
   "cell_type": "code",
   "execution_count": 9,
   "metadata": {
    "scrolled": true
   },
   "outputs": [
    {
     "name": "stderr",
     "output_type": "stream",
     "text": [
      "/Users/zhaoliang/gitProject/zhijiang/code/ModelSet.py:175: UserWarning: Update your `Conv1D` call to the Keras 2 API: `Conv1D(filters=50, kernel_size=5, padding=\"valid\")`\n",
      "  conv_layer = Conv1D(nb_filter=50, filter_length=(2 * half_window_size + 1), border_mode='valid')\n",
      "W0823 17:13:32.377467 4511393216 deprecation_wrapper.py:119] From /Users/zhaoliang/anaconda3/lib/python3.6/site-packages/keras/backend/tensorflow_backend.py:3980: The name tf.nn.avg_pool is deprecated. Please use tf.nn.avg_pool2d instead.\n",
      "\n",
      "/Users/zhaoliang/gitProject/zhijiang/code/ModelSet.py:188: UserWarning: Update your `Model` call to the Keras 2 API: `Model(inputs=[<tf.Tenso..., outputs=Tensor(\"de...)`\n",
      "  model = Model(input=[content_input_layer, aspect_input_layer, option_input_layer], output=output)\n"
     ]
    },
    {
     "name": "stdout",
     "output_type": "stream",
     "text": [
      "__________________________________________________________________________________________________\n",
      "Layer (type)                    Output Shape         Param #     Connected to                     \n",
      "==================================================================================================\n",
      "content_input_layer (InputLayer (None, 72)           0                                            \n",
      "__________________________________________________________________________________________________\n",
      "aspect_input_layer (InputLayer) (None, 8)            0                                            \n",
      "__________________________________________________________________________________________________\n",
      "option_input_layer (InputLayer) (None, 12)           0                                            \n",
      "__________________________________________________________________________________________________\n",
      "embedding_layer (Embedding)     multiple             165120      content_input_layer[0][0]        \n",
      "                                                                 aspect_input_layer[0][0]         \n",
      "                                                                 option_input_layer[0][0]         \n",
      "__________________________________________________________________________________________________\n",
      "zero_padding1d_1 (ZeroPadding1D multiple             0           embedding_layer[0][0]            \n",
      "                                                                 embedding_layer[1][0]            \n",
      "                                                                 embedding_layer[2][0]            \n",
      "__________________________________________________________________________________________________\n",
      "conv1d_1 (Conv1D)               multiple             32050       zero_padding1d_1[0][0]           \n",
      "                                                                 zero_padding1d_1[1][0]           \n",
      "                                                                 zero_padding1d_1[2][0]           \n",
      "__________________________________________________________________________________________________\n",
      "pooling (AveragePooling1D)      multiple             0           conv1d_1[0][0]                   \n",
      "                                                                 conv1d_1[1][0]                   \n",
      "                                                                 conv1d_1[2][0]                   \n",
      "__________________________________________________________________________________________________\n",
      "concatenate_1 (Concatenate)     (None, 46, 50)       0           pooling[0][0]                    \n",
      "                                                                 pooling[1][0]                    \n",
      "                                                                 pooling[2][0]                    \n",
      "__________________________________________________________________________________________________\n",
      "flatten_1 (Flatten)             (None, 2300)         0           concatenate_1[0][0]              \n",
      "__________________________________________________________________________________________________\n",
      "dense_1 (Dense)                 (None, 13)           29913       flatten_1[0][0]                  \n",
      "==================================================================================================\n",
      "Total params: 227,083\n",
      "Trainable params: 227,083\n",
      "Non-trainable params: 0\n",
      "__________________________________________________________________________________________________\n",
      "Train on 5969 samples, validate on 664 samples\n",
      "Epoch 1/500\n",
      "5969/5969 [==============================] - 3s 518us/step - loss: 1.1743 - acc: 0.6448 - val_loss: 0.6064 - val_acc: 0.8178\n",
      "Epoch 2/500\n",
      "5969/5969 [==============================] - 3s 420us/step - loss: 0.4064 - acc: 0.8941 - val_loss: 0.2969 - val_acc: 0.9142\n",
      "Epoch 3/500\n",
      "5969/5969 [==============================] - 3s 429us/step - loss: 0.2580 - acc: 0.9345 - val_loss: 0.2437 - val_acc: 0.9322\n",
      "Epoch 4/500\n",
      "5969/5969 [==============================] - 2s 414us/step - loss: 0.1952 - acc: 0.9507 - val_loss: 0.2124 - val_acc: 0.9428\n",
      "Epoch 5/500\n",
      "5969/5969 [==============================] - 3s 420us/step - loss: 0.1515 - acc: 0.9631 - val_loss: 0.2365 - val_acc: 0.9292\n",
      "Epoch 6/500\n",
      "5969/5969 [==============================] - 2s 418us/step - loss: 0.1235 - acc: 0.9692 - val_loss: 0.2257 - val_acc: 0.9413\n",
      "Epoch 7/500\n",
      "5969/5969 [==============================] - 2s 416us/step - loss: 0.1025 - acc: 0.9735 - val_loss: 0.2321 - val_acc: 0.9458\n",
      "Epoch 8/500\n",
      "5969/5969 [==============================] - 2s 419us/step - loss: 0.0840 - acc: 0.9796 - val_loss: 0.2521 - val_acc: 0.9367\n",
      "Epoch 9/500\n",
      "5969/5969 [==============================] - 3s 422us/step - loss: 0.0738 - acc: 0.9831 - val_loss: 0.2643 - val_acc: 0.9383\n",
      "Epoch 10/500\n",
      "5969/5969 [==============================] - 3s 422us/step - loss: 0.0626 - acc: 0.9849 - val_loss: 0.2731 - val_acc: 0.9352\n",
      "Epoch 11/500\n",
      "5969/5969 [==============================] - 3s 434us/step - loss: 0.0531 - acc: 0.9876 - val_loss: 0.3015 - val_acc: 0.9322\n",
      "Epoch 12/500\n",
      "5969/5969 [==============================] - 3s 425us/step - loss: 0.0463 - acc: 0.9894 - val_loss: 0.2999 - val_acc: 0.9262\n",
      "Epoch 13/500\n",
      "5969/5969 [==============================] - 2s 415us/step - loss: 0.0371 - acc: 0.9903 - val_loss: 0.3220 - val_acc: 0.9247\n",
      "Epoch 14/500\n",
      "5969/5969 [==============================] - 3s 421us/step - loss: 0.0303 - acc: 0.9928 - val_loss: 0.3351 - val_acc: 0.9277\n",
      "Epoch 15/500\n",
      "5969/5969 [==============================] - 2s 417us/step - loss: 0.0300 - acc: 0.9931 - val_loss: 0.3434 - val_acc: 0.9262\n",
      "Epoch 16/500\n",
      "5969/5969 [==============================] - 3s 426us/step - loss: 0.0267 - acc: 0.9935 - val_loss: 0.3602 - val_acc: 0.9277\n",
      "Epoch 17/500\n",
      "5969/5969 [==============================] - 3s 427us/step - loss: 0.0213 - acc: 0.9953 - val_loss: 0.3855 - val_acc: 0.9127\n",
      "Epoch 18/500\n",
      "5969/5969 [==============================] - 3s 419us/step - loss: 0.0202 - acc: 0.9948 - val_loss: 0.3979 - val_acc: 0.9262\n",
      "Epoch 19/500\n",
      "5969/5969 [==============================] - 3s 420us/step - loss: 0.0191 - acc: 0.9956 - val_loss: 0.4233 - val_acc: 0.9202\n",
      "Epoch 20/500\n",
      "5969/5969 [==============================] - 2s 418us/step - loss: 0.0165 - acc: 0.9968 - val_loss: 0.4246 - val_acc: 0.9172\n",
      "Epoch 21/500\n",
      "5969/5969 [==============================] - 2s 416us/step - loss: 0.0158 - acc: 0.9968 - val_loss: 0.4392 - val_acc: 0.9202\n",
      "Epoch 22/500\n",
      "5969/5969 [==============================] - 2s 418us/step - loss: 0.0154 - acc: 0.9973 - val_loss: 0.4207 - val_acc: 0.9292\n",
      "Epoch 23/500\n",
      "5969/5969 [==============================] - 2s 417us/step - loss: 0.0141 - acc: 0.9972 - val_loss: 0.4594 - val_acc: 0.9172\n",
      "Epoch 24/500\n",
      "5969/5969 [==============================] - 3s 425us/step - loss: 0.0135 - acc: 0.9978 - val_loss: 0.4850 - val_acc: 0.9157\n",
      "Epoch 00024: early stopping\n"
     ]
    }
   ],
   "source": [
    "cc = CategoriesClassifier(content_max_len = max_sent_len, aspect_max_len=aspect_max_len, option_max_len=option_max_len, categories_num=len(id2categories), word_dict_size=len(vocab2id), word_vec_size=128)\n",
    "cc.train(content_data, aspect_data, opinion_data, category_label)\n"
   ]
  },
  {
   "cell_type": "code",
   "execution_count": 10,
   "metadata": {
    "scrolled": true
   },
   "outputs": [
    {
     "name": "stdout",
     "output_type": "stream",
     "text": [
      "__________________________________________________________________________________________________\n",
      "Layer (type)                    Output Shape         Param #     Connected to                     \n",
      "==================================================================================================\n",
      "content_input_layer (InputLayer (None, 72)           0                                            \n",
      "__________________________________________________________________________________________________\n",
      "aspect_input_layer (InputLayer) (None, 8)            0                                            \n",
      "__________________________________________________________________________________________________\n",
      "option_input_layer (InputLayer) (None, 12)           0                                            \n",
      "__________________________________________________________________________________________________\n",
      "embedding_layer (Embedding)     multiple             165120      content_input_layer[0][0]        \n",
      "                                                                 aspect_input_layer[0][0]         \n",
      "                                                                 option_input_layer[0][0]         \n",
      "__________________________________________________________________________________________________\n",
      "zero_padding1d_2 (ZeroPadding1D multiple             0           embedding_layer[0][0]            \n",
      "                                                                 embedding_layer[1][0]            \n",
      "                                                                 embedding_layer[2][0]            \n",
      "__________________________________________________________________________________________________\n",
      "conv1d_2 (Conv1D)               multiple             32050       zero_padding1d_2[0][0]           \n",
      "                                                                 zero_padding1d_2[1][0]           \n",
      "                                                                 zero_padding1d_2[2][0]           \n",
      "__________________________________________________________________________________________________\n",
      "pooling (AveragePooling1D)      multiple             0           conv1d_2[0][0]                   \n",
      "                                                                 conv1d_2[1][0]                   \n",
      "                                                                 conv1d_2[2][0]                   \n",
      "__________________________________________________________________________________________________\n",
      "concatenate_2 (Concatenate)     (None, 46, 50)       0           pooling[0][0]                    \n",
      "                                                                 pooling[1][0]                    \n",
      "                                                                 pooling[2][0]                    \n",
      "__________________________________________________________________________________________________\n",
      "flatten_2 (Flatten)             (None, 2300)         0           concatenate_2[0][0]              \n",
      "__________________________________________________________________________________________________\n",
      "dense_2 (Dense)                 (None, 1)            2301        flatten_2[0][0]                  \n",
      "==================================================================================================\n",
      "Total params: 199,471\n",
      "Trainable params: 199,471\n",
      "Non-trainable params: 0\n",
      "__________________________________________________________________________________________________\n"
     ]
    },
    {
     "name": "stderr",
     "output_type": "stream",
     "text": [
      "/Users/zhaoliang/gitProject/zhijiang/code/ModelSet.py:99: UserWarning: Update your `Conv1D` call to the Keras 2 API: `Conv1D(filters=50, kernel_size=5, padding=\"valid\")`\n",
      "  conv_layer = Conv1D(nb_filter=50, filter_length=(2 * half_window_size + 1), border_mode='valid')\n",
      "/Users/zhaoliang/gitProject/zhijiang/code/ModelSet.py:112: UserWarning: Update your `Model` call to the Keras 2 API: `Model(inputs=[<tf.Tenso..., outputs=Tensor(\"de...)`\n",
      "  model = Model(input=[content_input_layer, aspect_input_layer, option_input_layer], output=output)\n"
     ]
    },
    {
     "name": "stdout",
     "output_type": "stream",
     "text": [
      "Train on 5969 samples, validate on 664 samples\n",
      "Epoch 1/500\n",
      "5969/5969 [==============================] - 3s 491us/step - loss: 0.2331 - acc: 0.9201 - val_loss: 0.1305 - val_acc: 0.9488\n",
      "Epoch 2/500\n",
      "5969/5969 [==============================] - 2s 373us/step - loss: 0.1083 - acc: 0.9611 - val_loss: 0.1163 - val_acc: 0.9578\n",
      "Epoch 3/500\n",
      "5969/5969 [==============================] - 2s 374us/step - loss: 0.0812 - acc: 0.9702 - val_loss: 0.1123 - val_acc: 0.9563\n",
      "Epoch 4/500\n",
      "5969/5969 [==============================] - 2s 370us/step - loss: 0.0622 - acc: 0.9784 - val_loss: 0.1115 - val_acc: 0.9503\n",
      "Epoch 5/500\n",
      "5969/5969 [==============================] - 2s 376us/step - loss: 0.0463 - acc: 0.9839 - val_loss: 0.1292 - val_acc: 0.9518\n",
      "Epoch 6/500\n",
      "5969/5969 [==============================] - 2s 376us/step - loss: 0.0325 - acc: 0.9905 - val_loss: 0.1664 - val_acc: 0.9458\n",
      "Epoch 7/500\n",
      "5969/5969 [==============================] - 2s 377us/step - loss: 0.0254 - acc: 0.9913 - val_loss: 0.1552 - val_acc: 0.9503\n",
      "Epoch 8/500\n",
      "5969/5969 [==============================] - 2s 381us/step - loss: 0.0187 - acc: 0.9941 - val_loss: 0.1777 - val_acc: 0.9518\n",
      "Epoch 9/500\n",
      "5969/5969 [==============================] - 2s 380us/step - loss: 0.0158 - acc: 0.9948 - val_loss: 0.1845 - val_acc: 0.9503\n",
      "Epoch 10/500\n",
      "5969/5969 [==============================] - 2s 377us/step - loss: 0.0130 - acc: 0.9953 - val_loss: 0.2301 - val_acc: 0.9503\n",
      "Epoch 11/500\n",
      "5969/5969 [==============================] - 2s 377us/step - loss: 0.0110 - acc: 0.9966 - val_loss: 0.2382 - val_acc: 0.9548\n",
      "Epoch 12/500\n",
      "5969/5969 [==============================] - 2s 379us/step - loss: 0.0095 - acc: 0.9977 - val_loss: 0.2659 - val_acc: 0.9503\n",
      "Epoch 13/500\n",
      "5969/5969 [==============================] - 2s 375us/step - loss: 0.0070 - acc: 0.9982 - val_loss: 0.2818 - val_acc: 0.9518\n",
      "Epoch 14/500\n",
      "5969/5969 [==============================] - 2s 377us/step - loss: 0.0075 - acc: 0.9975 - val_loss: 0.2721 - val_acc: 0.9488\n",
      "Epoch 00014: early stopping\n"
     ]
    }
   ],
   "source": [
    "pc = PolaritiesClassifier(content_max_len = max_sent_len, aspect_max_len=aspect_max_len, option_max_len=option_max_len, word_dict_size=len(vocab2id), word_vec_size=128)\n",
    "pc.train(content_data, aspect_data, opinion_data, polarity_label)\n"
   ]
  },
  {
   "cell_type": "code",
   "execution_count": 11,
   "metadata": {
    "scrolled": true
   },
   "outputs": [
    {
     "data": {
      "text/plain": [
       "[0]"
      ]
     },
     "execution_count": 11,
     "metadata": {},
     "output_type": "execute_result"
    }
   ],
   "source": [
    "ret_aspect_arr[0]"
   ]
  },
  {
   "cell_type": "code",
   "execution_count": 12,
   "metadata": {},
   "outputs": [],
   "source": [
    "cc_result = cc.predict(ret_content_arr, ret_aspect_arr, ret_aspect_arr, id2categories)\n",
    "pc_result = pc.predict(ret_content_arr, ret_aspect_arr, ret_opinion_arr)\n",
    "ner_table['Categories'] = cc_result\n",
    "ner_table['Polarities'] = pc_result\n",
    "final_table = ner_table[['id', 'AspectTerms', 'OpinionTerms', 'Categories', 'Polarities']]\n",
    "final_table.to_csv('../result/2019-08-23.csv', header=None, index=False)"
   ]
  },
  {
   "cell_type": "code",
   "execution_count": 13,
   "metadata": {},
   "outputs": [
    {
     "data": {
      "text/html": [
       "<div>\n",
       "<style scoped>\n",
       "    .dataframe tbody tr th:only-of-type {\n",
       "        vertical-align: middle;\n",
       "    }\n",
       "\n",
       "    .dataframe tbody tr th {\n",
       "        vertical-align: top;\n",
       "    }\n",
       "\n",
       "    .dataframe thead th {\n",
       "        text-align: right;\n",
       "    }\n",
       "</style>\n",
       "<table border=\"1\" class=\"dataframe\">\n",
       "  <thead>\n",
       "    <tr style=\"text-align: right;\">\n",
       "      <th></th>\n",
       "      <th>id</th>\n",
       "      <th>AspectTerms</th>\n",
       "      <th>OpinionTerms</th>\n",
       "      <th>Categories</th>\n",
       "      <th>Polarities</th>\n",
       "    </tr>\n",
       "  </thead>\n",
       "  <tbody>\n",
       "    <tr>\n",
       "      <th>0</th>\n",
       "      <td>1</td>\n",
       "      <td>_</td>\n",
       "      <td>最近太忙</td>\n",
       "      <td>尺寸</td>\n",
       "      <td>负面</td>\n",
       "    </tr>\n",
       "    <tr>\n",
       "      <th>1</th>\n",
       "      <td>1</td>\n",
       "      <td>_</td>\n",
       "      <td>是正品</td>\n",
       "      <td>尺寸</td>\n",
       "      <td>负面</td>\n",
       "    </tr>\n",
       "    <tr>\n",
       "      <th>2</th>\n",
       "      <td>1</td>\n",
       "      <td>_</td>\n",
       "      <td>白嫩</td>\n",
       "      <td>尺寸</td>\n",
       "      <td>负面</td>\n",
       "    </tr>\n",
       "    <tr>\n",
       "      <th>3</th>\n",
       "      <td>1</td>\n",
       "      <td>_</td>\n",
       "      <td>不错</td>\n",
       "      <td>尺寸</td>\n",
       "      <td>正面</td>\n",
       "    </tr>\n",
       "    <tr>\n",
       "      <th>4</th>\n",
       "      <td>2</td>\n",
       "      <td>颜色</td>\n",
       "      <td>_</td>\n",
       "      <td>功效</td>\n",
       "      <td>正面</td>\n",
       "    </tr>\n",
       "  </tbody>\n",
       "</table>\n",
       "</div>"
      ],
      "text/plain": [
       "   id AspectTerms OpinionTerms Categories Polarities\n",
       "0   1           _         最近太忙         尺寸         负面\n",
       "1   1           _          是正品         尺寸         负面\n",
       "2   1           _           白嫩         尺寸         负面\n",
       "3   1           _           不错         尺寸         正面\n",
       "4   2          颜色            _         功效         正面"
      ]
     },
     "execution_count": 13,
     "metadata": {},
     "output_type": "execute_result"
    }
   ],
   "source": [
    "final_table.head()"
   ]
  }
 ],
 "metadata": {
  "kernelspec": {
   "display_name": "Python 3",
   "language": "python",
   "name": "python3"
  },
  "language_info": {
   "codemirror_mode": {
    "name": "ipython",
    "version": 3
   },
   "file_extension": ".py",
   "mimetype": "text/x-python",
   "name": "python",
   "nbconvert_exporter": "python",
   "pygments_lexer": "ipython3",
   "version": "3.6.5"
  }
 },
 "nbformat": 4,
 "nbformat_minor": 2
}
